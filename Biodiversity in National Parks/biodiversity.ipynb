{
 "cells": [
  {
   "cell_type": "markdown",
   "metadata": {},
   "source": [
    "# Biodiversity in National Parks\n",
    "\n",
    "This project analyzes biodiversity data from the National Parks Service, with a focus around various species observed in different national park locations. \n",
    "\n",
    "This project will scope, analyze, prepare, plot data, and seek to explain the findings from the analysis.\n",
    "\n",
    "The main questions this project will address are the following:\n",
    "\n",
    "- What is the distribution of conservation status for species?\n",
    "- Are certain types of species more likely to be endangered?\n",
    "- Are the differences between species and their conservation status significant?\n",
    "- Focusing on birds, which is the species most prevalent and what is their distribution amongst parks?\n",
    "\n",
    "**Data sources**\n",
    "\n",
    "Both `observations.csv` and `species_info.csv` was provided by [Codecademy.com](https://www.codecademy.com).\n",
    "\n",
    "Note: The data for this project is *inspired* by real data, but is mostly fictional."
   ]
  },
  {
   "cell_type": "markdown",
   "metadata": {
    "heading_collapsed": true
   },
   "source": [
    "## Import modules\n",
    "Libraries used throughout the project."
   ]
  },
  {
   "cell_type": "code",
   "execution_count": 1,
   "metadata": {
    "hidden": true
   },
   "outputs": [],
   "source": [
    "from matplotlib import pyplot as plt\n",
    "import pandas as pd\n",
    "import seaborn as sns\n",
    "%matplotlib inline\n",
    "#to hide warnings from plots:\n",
    "import warnings\n",
    "warnings.filterwarnings(\"ignore\")"
   ]
  },
  {
   "cell_type": "markdown",
   "metadata": {
    "heading_collapsed": true
   },
   "source": [
    "## Loading the data and preliminary considerations\n",
    "The data are loaded into two dataframes `df_obs` and `df_spec` from **observations.csv** and **species_info.csv** respectively."
   ]
  },
  {
   "cell_type": "markdown",
   "metadata": {
    "hidden": true
   },
   "source": [
    "The two datasets provided are:\n",
    "- **species_info.csv** - contains data about different species and their conservation status.\n",
    "- **observations.csv** - holds recorded sightings of different species at several national parks for the past 7 days.\n",
    "\n",
    "These are loaded in two `Pandas` `Dataframes`, `df_spec` and `df_obs` respectively."
   ]
  },
  {
   "cell_type": "code",
   "execution_count": 2,
   "metadata": {
    "hidden": true
   },
   "outputs": [],
   "source": [
    "df_obs = pd.read_csv('observations.csv')\n",
    "df_spec = pd.read_csv('species_info.csv')"
   ]
  },
  {
   "cell_type": "markdown",
   "metadata": {
    "heading_collapsed": true,
    "hidden": true
   },
   "source": [
    "### Preliminary considerations on the observations data\n",
    "This dataset contains 23296 entries. It contains 3 columns:\n",
    "- `scientific_name`, the scientific name of the species observed.\n",
    "- `park_name`, the National Park name where the observations took place.\n",
    "- `observations`, the number of observations.\n",
    "\n",
    "There are 5541 unique different species in the dataset and 4 different National Parks: Great Smoky Mountains National Park, Yosemite National Park, Bryce National Park, Yellowstone National Park.\n",
    "\n",
    "The dataset does not contain `NaN` values and the types for each entries are as expected (`object` for the first two columns, and `int` for the third one)."
   ]
  },
  {
   "cell_type": "code",
   "execution_count": 3,
   "metadata": {
    "hidden": true
   },
   "outputs": [
    {
     "data": {
      "text/html": [
       "<div>\n",
       "<style scoped>\n",
       "    .dataframe tbody tr th:only-of-type {\n",
       "        vertical-align: middle;\n",
       "    }\n",
       "\n",
       "    .dataframe tbody tr th {\n",
       "        vertical-align: top;\n",
       "    }\n",
       "\n",
       "    .dataframe thead th {\n",
       "        text-align: right;\n",
       "    }\n",
       "</style>\n",
       "<table border=\"1\" class=\"dataframe\">\n",
       "  <thead>\n",
       "    <tr style=\"text-align: right;\">\n",
       "      <th></th>\n",
       "      <th>scientific_name</th>\n",
       "      <th>park_name</th>\n",
       "      <th>observations</th>\n",
       "    </tr>\n",
       "  </thead>\n",
       "  <tbody>\n",
       "    <tr>\n",
       "      <th>0</th>\n",
       "      <td>Vicia benghalensis</td>\n",
       "      <td>Great Smoky Mountains National Park</td>\n",
       "      <td>68</td>\n",
       "    </tr>\n",
       "    <tr>\n",
       "      <th>1</th>\n",
       "      <td>Neovison vison</td>\n",
       "      <td>Great Smoky Mountains National Park</td>\n",
       "      <td>77</td>\n",
       "    </tr>\n",
       "    <tr>\n",
       "      <th>2</th>\n",
       "      <td>Prunus subcordata</td>\n",
       "      <td>Yosemite National Park</td>\n",
       "      <td>138</td>\n",
       "    </tr>\n",
       "    <tr>\n",
       "      <th>3</th>\n",
       "      <td>Abutilon theophrasti</td>\n",
       "      <td>Bryce National Park</td>\n",
       "      <td>84</td>\n",
       "    </tr>\n",
       "    <tr>\n",
       "      <th>4</th>\n",
       "      <td>Githopsis specularioides</td>\n",
       "      <td>Great Smoky Mountains National Park</td>\n",
       "      <td>85</td>\n",
       "    </tr>\n",
       "  </tbody>\n",
       "</table>\n",
       "</div>"
      ],
      "text/plain": [
       "            scientific_name                            park_name  observations\n",
       "0        Vicia benghalensis  Great Smoky Mountains National Park            68\n",
       "1            Neovison vison  Great Smoky Mountains National Park            77\n",
       "2         Prunus subcordata               Yosemite National Park           138\n",
       "3      Abutilon theophrasti                  Bryce National Park            84\n",
       "4  Githopsis specularioides  Great Smoky Mountains National Park            85"
      ]
     },
     "execution_count": 3,
     "metadata": {},
     "output_type": "execute_result"
    }
   ],
   "source": [
    "df_obs.head()"
   ]
  },
  {
   "cell_type": "code",
   "execution_count": 4,
   "metadata": {
    "hidden": true
   },
   "outputs": [
    {
     "name": "stdout",
     "output_type": "stream",
     "text": [
      "The length of df_obs is 23296.\n",
      "\n",
      "\n",
      "Count of null values in df_obs:\n",
      "scientific_name    0\n",
      "park_name          0\n",
      "observations       0\n",
      "dtype: int64\n",
      "\n",
      "\n",
      "Check for type of values in df_obs:\n",
      "scientific_name    object\n",
      "park_name          object\n",
      "observations        int64\n",
      "dtype: object\n",
      "\n",
      "\n",
      "Number of unique entries for scientific_name: 5541.\n",
      "\n",
      "\n",
      "Number of unique entries for park_name: 4.\n",
      "The National Park in the dataset are: ['Great Smoky Mountains National Park' 'Yosemite National Park'\n",
      " 'Bryce National Park' 'Yellowstone National Park'].\n",
      "\n",
      "\n",
      "The maximum and minimum number of observations are: 321 and 9.\n"
     ]
    }
   ],
   "source": [
    "print('The length of df_obs is {}.'.format(len(df_obs)))\n",
    "print('\\n')\n",
    "print('Count of null values in df_obs:')\n",
    "print(df_obs.isnull().sum())\n",
    "print('\\n')\n",
    "print('Check for type of values in df_obs:')\n",
    "print(df_obs.dtypes)\n",
    "print('\\n')\n",
    "print('Number of unique entries for scientific_name: {}.'.format(df_obs.scientific_name.nunique()))\n",
    "print('\\n')\n",
    "print('Number of unique entries for park_name: {}.'.format(df_obs.park_name.nunique()))\n",
    "print('The National Park in the dataset are: {}.'.format(df_obs.park_name.unique()))\n",
    "print('\\n')\n",
    "print('The maximum and minimum number of observations are: {} and {}.'\n",
    "      .format(df_obs.observations.max(),df_obs.observations.min()))"
   ]
  },
  {
   "cell_type": "markdown",
   "metadata": {
    "heading_collapsed": true,
    "hidden": true
   },
   "source": [
    "### Preliminary considerations on the species information data\n",
    "This dataset contains 5824 entries. It contains 4 columns:\n",
    "- `category`, the animal category.\n",
    "- `scientific_name`, the scientific name of the species.\n",
    "- `common_names`, the common name of the species.\n",
    "- `conservation_status`, the conservation status of the species.\n",
    "\n",
    "There are 5541 unique different species, as for the observation dataset, and 5504 unique common names. The species are divided into 7 unique different categories:\n",
    "- 214 species are `Mammal`\n",
    "- 521 species are `Bird`\n",
    "- 79 species are `Reptile`\n",
    "- 80 species are `Amphibian`\n",
    "- 127 species are `Fish`\n",
    "- 4470 species are `Vascular Plant`\n",
    "- 333 species are `Nonvascular Plant`\n",
    "\n",
    "Plants are the most frequent species in the dataset, with 4470 vascular plants adn 333 nonvascular plants. The rest of the dataset is composed by animals, the most frequent category is bird, with 521 species.\n",
    "\n",
    "The last column, `conservation_status`, contains 5633 `NaN` values, the 96.7% of the entries. In this context, a `NaN` value corresponds to a non-endangered species, and it is no matter of concern. For a smoother analysis, this value will be changed in `Non-endangered`. The other possible status are: Species of Concern, Endangered, Threatened, In Recovery.\n",
    "\n",
    "The type for all entries is as expected `object`."
   ]
  },
  {
   "cell_type": "code",
   "execution_count": 5,
   "metadata": {
    "hidden": true
   },
   "outputs": [
    {
     "data": {
      "text/html": [
       "<div>\n",
       "<style scoped>\n",
       "    .dataframe tbody tr th:only-of-type {\n",
       "        vertical-align: middle;\n",
       "    }\n",
       "\n",
       "    .dataframe tbody tr th {\n",
       "        vertical-align: top;\n",
       "    }\n",
       "\n",
       "    .dataframe thead th {\n",
       "        text-align: right;\n",
       "    }\n",
       "</style>\n",
       "<table border=\"1\" class=\"dataframe\">\n",
       "  <thead>\n",
       "    <tr style=\"text-align: right;\">\n",
       "      <th></th>\n",
       "      <th>category</th>\n",
       "      <th>scientific_name</th>\n",
       "      <th>common_names</th>\n",
       "      <th>conservation_status</th>\n",
       "    </tr>\n",
       "  </thead>\n",
       "  <tbody>\n",
       "    <tr>\n",
       "      <th>0</th>\n",
       "      <td>Mammal</td>\n",
       "      <td>Clethrionomys gapperi gapperi</td>\n",
       "      <td>Gapper's Red-Backed Vole</td>\n",
       "      <td>NaN</td>\n",
       "    </tr>\n",
       "    <tr>\n",
       "      <th>1</th>\n",
       "      <td>Mammal</td>\n",
       "      <td>Bos bison</td>\n",
       "      <td>American Bison, Bison</td>\n",
       "      <td>NaN</td>\n",
       "    </tr>\n",
       "    <tr>\n",
       "      <th>2</th>\n",
       "      <td>Mammal</td>\n",
       "      <td>Bos taurus</td>\n",
       "      <td>Aurochs, Aurochs, Domestic Cattle (Feral), Dom...</td>\n",
       "      <td>NaN</td>\n",
       "    </tr>\n",
       "    <tr>\n",
       "      <th>3</th>\n",
       "      <td>Mammal</td>\n",
       "      <td>Ovis aries</td>\n",
       "      <td>Domestic Sheep, Mouflon, Red Sheep, Sheep (Feral)</td>\n",
       "      <td>NaN</td>\n",
       "    </tr>\n",
       "    <tr>\n",
       "      <th>4</th>\n",
       "      <td>Mammal</td>\n",
       "      <td>Cervus elaphus</td>\n",
       "      <td>Wapiti Or Elk</td>\n",
       "      <td>NaN</td>\n",
       "    </tr>\n",
       "  </tbody>\n",
       "</table>\n",
       "</div>"
      ],
      "text/plain": [
       "  category                scientific_name  \\\n",
       "0   Mammal  Clethrionomys gapperi gapperi   \n",
       "1   Mammal                      Bos bison   \n",
       "2   Mammal                     Bos taurus   \n",
       "3   Mammal                     Ovis aries   \n",
       "4   Mammal                 Cervus elaphus   \n",
       "\n",
       "                                        common_names conservation_status  \n",
       "0                           Gapper's Red-Backed Vole                 NaN  \n",
       "1                              American Bison, Bison                 NaN  \n",
       "2  Aurochs, Aurochs, Domestic Cattle (Feral), Dom...                 NaN  \n",
       "3  Domestic Sheep, Mouflon, Red Sheep, Sheep (Feral)                 NaN  \n",
       "4                                      Wapiti Or Elk                 NaN  "
      ]
     },
     "execution_count": 5,
     "metadata": {},
     "output_type": "execute_result"
    }
   ],
   "source": [
    "df_spec.head()"
   ]
  },
  {
   "cell_type": "code",
   "execution_count": 6,
   "metadata": {
    "hidden": true
   },
   "outputs": [
    {
     "name": "stdout",
     "output_type": "stream",
     "text": [
      "The length of df_spec is 5824.\n",
      "\n",
      "\n",
      "Count of null values in df_spec:\n",
      "category                  0\n",
      "scientific_name           0\n",
      "common_names              0\n",
      "conservation_status    5633\n",
      "dtype: int64\n",
      "\n",
      "\n",
      "Check for type of values in df_spec:\n",
      "category               object\n",
      "scientific_name        object\n",
      "common_names           object\n",
      "conservation_status    object\n",
      "dtype: object\n",
      "\n",
      "\n",
      "Number of unique entries for category: 7.\n",
      "The category in the dataset are: ['Mammal' 'Bird' 'Reptile' 'Amphibian' 'Fish' 'Vascular Plant'\n",
      " 'Nonvascular Plant'].\n",
      "\n",
      "\n",
      "Number of unique entries for scientific_name: 5541.\n",
      "\n",
      "\n",
      "Number of unique entries for common_name: 5504.\n",
      "\n",
      "\n",
      "The different status of conservation are: [nan 'Species of Concern' 'Endangered' 'Threatened' 'In Recovery'].\n"
     ]
    }
   ],
   "source": [
    "print('The length of df_spec is {}.'.format(len(df_spec)))\n",
    "print('\\n')\n",
    "print('Count of null values in df_spec:')\n",
    "print(df_spec.isnull().sum())\n",
    "print('\\n')\n",
    "print('Check for type of values in df_spec:')\n",
    "print(df_spec.dtypes)\n",
    "print('\\n')\n",
    "print('Number of unique entries for category: {}.'.format(df_spec.category.nunique()))\n",
    "print('The category in the dataset are: {}.'.format(df_spec.category.unique()))\n",
    "print('\\n')\n",
    "print('Number of unique entries for scientific_name: {}.'.format(df_spec.scientific_name.nunique()))\n",
    "print('\\n')\n",
    "print('Number of unique entries for common_name: {}.'.format(df_spec.common_names.nunique()))\n",
    "print('\\n')\n",
    "print('The different status of conservation are: {}.'.format(df_spec.conservation_status.unique()))"
   ]
  },
  {
   "cell_type": "code",
   "execution_count": 7,
   "metadata": {
    "hidden": true
   },
   "outputs": [
    {
     "data": {
      "text/plain": [
       "category\n",
       "Vascular Plant       4470\n",
       "Bird                  521\n",
       "Nonvascular Plant     333\n",
       "Mammal                214\n",
       "Fish                  127\n",
       "Amphibian              80\n",
       "Reptile                79\n",
       "Name: count, dtype: int64"
      ]
     },
     "execution_count": 7,
     "metadata": {},
     "output_type": "execute_result"
    }
   ],
   "source": [
    "df_spec['category'].value_counts()"
   ]
  },
  {
   "cell_type": "code",
   "execution_count": 8,
   "metadata": {
    "hidden": true
   },
   "outputs": [
    {
     "data": {
      "text/html": [
       "<div>\n",
       "<style scoped>\n",
       "    .dataframe tbody tr th:only-of-type {\n",
       "        vertical-align: middle;\n",
       "    }\n",
       "\n",
       "    .dataframe tbody tr th {\n",
       "        vertical-align: top;\n",
       "    }\n",
       "\n",
       "    .dataframe thead th {\n",
       "        text-align: right;\n",
       "    }\n",
       "</style>\n",
       "<table border=\"1\" class=\"dataframe\">\n",
       "  <thead>\n",
       "    <tr style=\"text-align: right;\">\n",
       "      <th></th>\n",
       "      <th>category</th>\n",
       "      <th>scientific_name</th>\n",
       "      <th>common_names</th>\n",
       "      <th>conservation_status</th>\n",
       "    </tr>\n",
       "  </thead>\n",
       "  <tbody>\n",
       "    <tr>\n",
       "      <th>0</th>\n",
       "      <td>Mammal</td>\n",
       "      <td>Clethrionomys gapperi gapperi</td>\n",
       "      <td>Gapper's Red-Backed Vole</td>\n",
       "      <td>Non-endangered</td>\n",
       "    </tr>\n",
       "    <tr>\n",
       "      <th>1</th>\n",
       "      <td>Mammal</td>\n",
       "      <td>Bos bison</td>\n",
       "      <td>American Bison, Bison</td>\n",
       "      <td>Non-endangered</td>\n",
       "    </tr>\n",
       "    <tr>\n",
       "      <th>2</th>\n",
       "      <td>Mammal</td>\n",
       "      <td>Bos taurus</td>\n",
       "      <td>Aurochs, Aurochs, Domestic Cattle (Feral), Dom...</td>\n",
       "      <td>Non-endangered</td>\n",
       "    </tr>\n",
       "    <tr>\n",
       "      <th>3</th>\n",
       "      <td>Mammal</td>\n",
       "      <td>Ovis aries</td>\n",
       "      <td>Domestic Sheep, Mouflon, Red Sheep, Sheep (Feral)</td>\n",
       "      <td>Non-endangered</td>\n",
       "    </tr>\n",
       "    <tr>\n",
       "      <th>4</th>\n",
       "      <td>Mammal</td>\n",
       "      <td>Cervus elaphus</td>\n",
       "      <td>Wapiti Or Elk</td>\n",
       "      <td>Non-endangered</td>\n",
       "    </tr>\n",
       "  </tbody>\n",
       "</table>\n",
       "</div>"
      ],
      "text/plain": [
       "  category                scientific_name  \\\n",
       "0   Mammal  Clethrionomys gapperi gapperi   \n",
       "1   Mammal                      Bos bison   \n",
       "2   Mammal                     Bos taurus   \n",
       "3   Mammal                     Ovis aries   \n",
       "4   Mammal                 Cervus elaphus   \n",
       "\n",
       "                                        common_names conservation_status  \n",
       "0                           Gapper's Red-Backed Vole      Non-endangered  \n",
       "1                              American Bison, Bison      Non-endangered  \n",
       "2  Aurochs, Aurochs, Domestic Cattle (Feral), Dom...      Non-endangered  \n",
       "3  Domestic Sheep, Mouflon, Red Sheep, Sheep (Feral)      Non-endangered  \n",
       "4                                      Wapiti Or Elk      Non-endangered  "
      ]
     },
     "execution_count": 8,
     "metadata": {},
     "output_type": "execute_result"
    }
   ],
   "source": [
    "df_spec.conservation_status.fillna(value='Non-endangered', inplace=True)\n",
    "df_spec.head()"
   ]
  },
  {
   "cell_type": "markdown",
   "metadata": {
    "heading_collapsed": true
   },
   "source": [
    "## Analysis\n",
    "This section explores the data more in depth. \n",
    "\n",
    "The first task is to focus on the conservation status of the different species. As seen in the preliminary exploration, the majority of species needs no intervention. Specifically, 5633 out of 5824 different species considered, the 96.7%, are considered non-endangered. The status of the remaining species is:\n",
    "- 161 `Species of Concern`, declining or appear to be in need of conservation.\n",
    "- 10 `Threatened`, vulnerable to endangerment in the near future.\n",
    "- 16 `Endangered`, seriously at risk of extinction.\n",
    "- 4 `In Recovery`, formerly `Endangered`, but currently neither in danger of extinction throughout all or a significant portion of its range."
   ]
  },
  {
   "cell_type": "code",
   "execution_count": 9,
   "metadata": {
    "hidden": true
   },
   "outputs": [
    {
     "data": {
      "text/plain": [
       "conservation_status\n",
       "Non-endangered        5633\n",
       "Species of Concern     161\n",
       "Endangered              16\n",
       "Threatened              10\n",
       "In Recovery              4\n",
       "Name: count, dtype: int64"
      ]
     },
     "execution_count": 9,
     "metadata": {},
     "output_type": "execute_result"
    }
   ],
   "source": [
    "df_spec.conservation_status.value_counts()"
   ]
  },
  {
   "cell_type": "markdown",
   "metadata": {
    "hidden": true
   },
   "source": [
    "Bird is the category most present between the species that need intervention, making up the 41.3% of all species that need intervention, followed by vascular plants with 24.1% and mammals with 19.9%."
   ]
  },
  {
   "cell_type": "code",
   "execution_count": 10,
   "metadata": {
    "hidden": true
   },
   "outputs": [
    {
     "data": {
      "text/html": [
       "<div>\n",
       "<style scoped>\n",
       "    .dataframe tbody tr th:only-of-type {\n",
       "        vertical-align: middle;\n",
       "    }\n",
       "\n",
       "    .dataframe tbody tr th {\n",
       "        vertical-align: top;\n",
       "    }\n",
       "\n",
       "    .dataframe thead th {\n",
       "        text-align: right;\n",
       "    }\n",
       "</style>\n",
       "<table border=\"1\" class=\"dataframe\">\n",
       "  <thead>\n",
       "    <tr style=\"text-align: right;\">\n",
       "      <th>category</th>\n",
       "      <th>Amphibian</th>\n",
       "      <th>Bird</th>\n",
       "      <th>Fish</th>\n",
       "      <th>Mammal</th>\n",
       "      <th>Nonvascular Plant</th>\n",
       "      <th>Reptile</th>\n",
       "      <th>Vascular Plant</th>\n",
       "    </tr>\n",
       "    <tr>\n",
       "      <th>conservation_status</th>\n",
       "      <th></th>\n",
       "      <th></th>\n",
       "      <th></th>\n",
       "      <th></th>\n",
       "      <th></th>\n",
       "      <th></th>\n",
       "      <th></th>\n",
       "    </tr>\n",
       "  </thead>\n",
       "  <tbody>\n",
       "    <tr>\n",
       "      <th>Endangered</th>\n",
       "      <td>1.0</td>\n",
       "      <td>4.0</td>\n",
       "      <td>3.0</td>\n",
       "      <td>7.0</td>\n",
       "      <td>NaN</td>\n",
       "      <td>NaN</td>\n",
       "      <td>1.0</td>\n",
       "    </tr>\n",
       "    <tr>\n",
       "      <th>In Recovery</th>\n",
       "      <td>NaN</td>\n",
       "      <td>3.0</td>\n",
       "      <td>NaN</td>\n",
       "      <td>1.0</td>\n",
       "      <td>NaN</td>\n",
       "      <td>NaN</td>\n",
       "      <td>NaN</td>\n",
       "    </tr>\n",
       "    <tr>\n",
       "      <th>Species of Concern</th>\n",
       "      <td>4.0</td>\n",
       "      <td>72.0</td>\n",
       "      <td>4.0</td>\n",
       "      <td>28.0</td>\n",
       "      <td>5.0</td>\n",
       "      <td>5.0</td>\n",
       "      <td>43.0</td>\n",
       "    </tr>\n",
       "    <tr>\n",
       "      <th>Threatened</th>\n",
       "      <td>2.0</td>\n",
       "      <td>NaN</td>\n",
       "      <td>4.0</td>\n",
       "      <td>2.0</td>\n",
       "      <td>NaN</td>\n",
       "      <td>NaN</td>\n",
       "      <td>2.0</td>\n",
       "    </tr>\n",
       "  </tbody>\n",
       "</table>\n",
       "</div>"
      ],
      "text/plain": [
       "category             Amphibian  Bird  Fish  Mammal  Nonvascular Plant  \\\n",
       "conservation_status                                                     \n",
       "Endangered                 1.0   4.0   3.0     7.0                NaN   \n",
       "In Recovery                NaN   3.0   NaN     1.0                NaN   \n",
       "Species of Concern         4.0  72.0   4.0    28.0                5.0   \n",
       "Threatened                 2.0   NaN   4.0     2.0                NaN   \n",
       "\n",
       "category             Reptile  Vascular Plant  \n",
       "conservation_status                           \n",
       "Endangered               NaN             1.0  \n",
       "In Recovery              NaN             NaN  \n",
       "Species of Concern       5.0            43.0  \n",
       "Threatened               NaN             2.0  "
      ]
     },
     "execution_count": 10,
     "metadata": {},
     "output_type": "execute_result"
    }
   ],
   "source": [
    "conservation_category = df_spec[df_spec['conservation_status'] != 'Non-endangered']\\\n",
    "    .groupby(['conservation_status','category'])['scientific_name'].count().unstack()\n",
    "conservation_category"
   ]
  },
  {
   "cell_type": "code",
   "execution_count": 11,
   "metadata": {
    "hidden": true
   },
   "outputs": [
    {
     "data": {
      "text/plain": [
       "category\n",
       "Amphibian             7.0\n",
       "Bird                 79.0\n",
       "Fish                 11.0\n",
       "Mammal               38.0\n",
       "Nonvascular Plant     5.0\n",
       "Reptile               5.0\n",
       "Vascular Plant       46.0\n",
       "dtype: float64"
      ]
     },
     "execution_count": 11,
     "metadata": {},
     "output_type": "execute_result"
    }
   ],
   "source": [
    "conservation_category.sum()"
   ]
  },
  {
   "cell_type": "code",
   "execution_count": 12,
   "metadata": {
    "hidden": true
   },
   "outputs": [],
   "source": [
    "palette = sns.color_palette('colorblind')"
   ]
  },
  {
   "cell_type": "code",
   "execution_count": 13,
   "metadata": {
    "hidden": true
   },
   "outputs": [
    {
     "data": {
      "image/png": "[encoded data removed]",
      "text/plain": [
       "<Figure size 640x480 with 1 Axes>"
      ]
     },
     "metadata": {},
     "output_type": "display_data"
    }
   ],
   "source": [
    "ax = conservation_category.plot(kind='bar',stacked=True,rot=0,color=palette)\n",
    "plt.title('Number of species for conservation status',fontsize=14)\n",
    "plt.xlabel('Conservation status',fontsize=12)\n",
    "plt.legend(title='Category',fontsize=9)\n",
    "plt.show()"
   ]
  },
  {
   "cell_type": "markdown",
   "metadata": {
    "heading_collapsed": true,
    "hidden": true
   },
   "source": [
    "### Categories in conservation\n",
    "\n",
    "The next step is to consider how likely is a species to be endangered given its category. To do so, we create a new column `Protected`, to differentiate between species that need intervention and those who don't. We then group by `category` and `Protected` to show the break down of each species type and protection status."
   ]
  },
  {
   "cell_type": "code",
   "execution_count": 14,
   "metadata": {
    "hidden": true
   },
   "outputs": [],
   "source": [
    "df_spec['Protected'] = df_spec.conservation_status != 'Non-endangered'"
   ]
  },
  {
   "cell_type": "code",
   "execution_count": 15,
   "metadata": {
    "hidden": true
   },
   "outputs": [
    {
     "data": {
      "text/html": [
       "<div>\n",
       "<style scoped>\n",
       "    .dataframe tbody tr th:only-of-type {\n",
       "        vertical-align: middle;\n",
       "    }\n",
       "\n",
       "    .dataframe tbody tr th {\n",
       "        vertical-align: top;\n",
       "    }\n",
       "\n",
       "    .dataframe thead th {\n",
       "        text-align: right;\n",
       "    }\n",
       "</style>\n",
       "<table border=\"1\" class=\"dataframe\">\n",
       "  <thead>\n",
       "    <tr style=\"text-align: right;\">\n",
       "      <th></th>\n",
       "      <th>category</th>\n",
       "      <th>Not protected</th>\n",
       "      <th>Protected</th>\n",
       "    </tr>\n",
       "  </thead>\n",
       "  <tbody>\n",
       "    <tr>\n",
       "      <th>0</th>\n",
       "      <td>Amphibian</td>\n",
       "      <td>72</td>\n",
       "      <td>7</td>\n",
       "    </tr>\n",
       "    <tr>\n",
       "      <th>1</th>\n",
       "      <td>Bird</td>\n",
       "      <td>413</td>\n",
       "      <td>75</td>\n",
       "    </tr>\n",
       "    <tr>\n",
       "      <th>2</th>\n",
       "      <td>Fish</td>\n",
       "      <td>115</td>\n",
       "      <td>11</td>\n",
       "    </tr>\n",
       "    <tr>\n",
       "      <th>3</th>\n",
       "      <td>Mammal</td>\n",
       "      <td>146</td>\n",
       "      <td>30</td>\n",
       "    </tr>\n",
       "    <tr>\n",
       "      <th>4</th>\n",
       "      <td>Nonvascular Plant</td>\n",
       "      <td>328</td>\n",
       "      <td>5</td>\n",
       "    </tr>\n",
       "    <tr>\n",
       "      <th>5</th>\n",
       "      <td>Reptile</td>\n",
       "      <td>73</td>\n",
       "      <td>5</td>\n",
       "    </tr>\n",
       "    <tr>\n",
       "      <th>6</th>\n",
       "      <td>Vascular Plant</td>\n",
       "      <td>4216</td>\n",
       "      <td>46</td>\n",
       "    </tr>\n",
       "  </tbody>\n",
       "</table>\n",
       "</div>"
      ],
      "text/plain": [
       "            category  Not protected  Protected\n",
       "0          Amphibian             72          7\n",
       "1               Bird            413         75\n",
       "2               Fish            115         11\n",
       "3             Mammal            146         30\n",
       "4  Nonvascular Plant            328          5\n",
       "5            Reptile             73          5\n",
       "6     Vascular Plant           4216         46"
      ]
     },
     "execution_count": 15,
     "metadata": {},
     "output_type": "execute_result"
    }
   ],
   "source": [
    "category_counts = df_spec.groupby(['Protected','category'])['scientific_name'].nunique().reset_index()\\\n",
    "        .pivot(columns='Protected', index='category',values='scientific_name').reset_index()\n",
    "category_counts.columns = ['category', 'Not protected', 'Protected']\n",
    "category_counts"
   ]
  },
  {
   "cell_type": "markdown",
   "metadata": {
    "hidden": true
   },
   "source": [
    "Finally, we calculate the rate of protection that each category exhibits in the data. This analysis shows that the categories with the higher percentage in protection are mammals, with 17.0%, and birds, with 15.4%."
   ]
  },
  {
   "cell_type": "code",
   "execution_count": 16,
   "metadata": {
    "hidden": true
   },
   "outputs": [
    {
     "data": {
      "text/html": [
       "<div>\n",
       "<style scoped>\n",
       "    .dataframe tbody tr th:only-of-type {\n",
       "        vertical-align: middle;\n",
       "    }\n",
       "\n",
       "    .dataframe tbody tr th {\n",
       "        vertical-align: top;\n",
       "    }\n",
       "\n",
       "    .dataframe thead th {\n",
       "        text-align: right;\n",
       "    }\n",
       "</style>\n",
       "<table border=\"1\" class=\"dataframe\">\n",
       "  <thead>\n",
       "    <tr style=\"text-align: right;\">\n",
       "      <th></th>\n",
       "      <th>category</th>\n",
       "      <th>Not protected</th>\n",
       "      <th>Protected</th>\n",
       "      <th>Percentage protected</th>\n",
       "    </tr>\n",
       "  </thead>\n",
       "  <tbody>\n",
       "    <tr>\n",
       "      <th>0</th>\n",
       "      <td>Amphibian</td>\n",
       "      <td>72</td>\n",
       "      <td>7</td>\n",
       "      <td>8.860759</td>\n",
       "    </tr>\n",
       "    <tr>\n",
       "      <th>1</th>\n",
       "      <td>Bird</td>\n",
       "      <td>413</td>\n",
       "      <td>75</td>\n",
       "      <td>15.368852</td>\n",
       "    </tr>\n",
       "    <tr>\n",
       "      <th>2</th>\n",
       "      <td>Fish</td>\n",
       "      <td>115</td>\n",
       "      <td>11</td>\n",
       "      <td>8.730159</td>\n",
       "    </tr>\n",
       "    <tr>\n",
       "      <th>3</th>\n",
       "      <td>Mammal</td>\n",
       "      <td>146</td>\n",
       "      <td>30</td>\n",
       "      <td>17.045455</td>\n",
       "    </tr>\n",
       "    <tr>\n",
       "      <th>4</th>\n",
       "      <td>Nonvascular Plant</td>\n",
       "      <td>328</td>\n",
       "      <td>5</td>\n",
       "      <td>1.501502</td>\n",
       "    </tr>\n",
       "    <tr>\n",
       "      <th>5</th>\n",
       "      <td>Reptile</td>\n",
       "      <td>73</td>\n",
       "      <td>5</td>\n",
       "      <td>6.410256</td>\n",
       "    </tr>\n",
       "    <tr>\n",
       "      <th>6</th>\n",
       "      <td>Vascular Plant</td>\n",
       "      <td>4216</td>\n",
       "      <td>46</td>\n",
       "      <td>1.079305</td>\n",
       "    </tr>\n",
       "  </tbody>\n",
       "</table>\n",
       "</div>"
      ],
      "text/plain": [
       "            category  Not protected  Protected  Percentage protected\n",
       "0          Amphibian             72          7              8.860759\n",
       "1               Bird            413         75             15.368852\n",
       "2               Fish            115         11              8.730159\n",
       "3             Mammal            146         30             17.045455\n",
       "4  Nonvascular Plant            328          5              1.501502\n",
       "5            Reptile             73          5              6.410256\n",
       "6     Vascular Plant           4216         46              1.079305"
      ]
     },
     "execution_count": 16,
     "metadata": {},
     "output_type": "execute_result"
    }
   ],
   "source": [
    "category_counts['Percentage protected'] = category_counts.Protected / \\\n",
    "                        (category_counts.Protected + category_counts['Not protected']) * 100\n",
    "\n",
    "category_counts"
   ]
  },
  {
   "cell_type": "markdown",
   "metadata": {
    "heading_collapsed": true,
    "hidden": true
   },
   "source": [
    "### Statistical significance\n",
    "\n",
    "This section focuses in understanding if different species have statistically significant differences in conservation status rates. We will run chi-square tests of homogeneity, using contingency tables."
   ]
  },
  {
   "cell_type": "markdown",
   "metadata": {
    "hidden": true
   },
   "source": [
    "The first case considers mammals and birds categories. The chi-square test returns a p-value of 0.69,  in this case the two categories can be thought of coming from the same populations, and there is no significant differences in conservation status rates."
   ]
  },
  {
   "cell_type": "code",
   "execution_count": 17,
   "metadata": {
    "hidden": true
   },
   "outputs": [
    {
     "data": {
      "text/plain": [
       "Chi2ContingencyResult(statistic=0.16170148316545574, pvalue=0.6875948096661336, dof=1, expected_freq=array([[ 77.1686747, 410.8313253],\n",
       "       [ 27.8313253, 148.1686747]]))"
      ]
     },
     "execution_count": 17,
     "metadata": {},
     "output_type": "execute_result"
    }
   ],
   "source": [
    "from scipy.stats import chi2_contingency\n",
    "\n",
    "contingency_Bird_Mammal = category_counts[(category_counts.category == 'Mammal')\\\n",
    "                           |(category_counts.category == 'Bird')]\\\n",
    "                        [['Protected','Not protected']].values.tolist()\n",
    "chi2_contingency(contingency_Bird_Mammal)"
   ]
  },
  {
   "cell_type": "markdown",
   "metadata": {
    "hidden": true
   },
   "source": [
    "Next we consider amphibians and birds categories. The chi-square test returns a p-value of 0.18, in this case the two categories can be thought of coming from the same populations, and there is no significant differences in conservation status rates."
   ]
  },
  {
   "cell_type": "code",
   "execution_count": 18,
   "metadata": {
    "hidden": true
   },
   "outputs": [
    {
     "data": {
      "text/plain": [
       "Chi2ContingencyResult(statistic=1.831621580618698, pvalue=0.17593613249594683, dof=1, expected_freq=array([[ 11.42504409,  67.57495591],\n",
       "       [ 70.57495591, 417.42504409]]))"
      ]
     },
     "execution_count": 18,
     "metadata": {},
     "output_type": "execute_result"
    }
   ],
   "source": [
    "contingency_Bird_Amph = category_counts[(category_counts.category == 'Amphibian')\\\n",
    "                           |(category_counts.category == 'Bird')]\\\n",
    "                        [['Protected','Not protected']].values.tolist()\n",
    "chi2_contingency(contingency_Bird_Amph)"
   ]
  },
  {
   "cell_type": "markdown",
   "metadata": {
    "hidden": true
   },
   "source": [
    "The following two cases considers birds and vascular/non-vascular plants categories. The chi-square test returns a p-value of 1 10^-10 and 4 10^-79, for bird-non vascular and bird-vascular respectively. In both cases, the two categories can be thought of coming from the different populations, and there is significant difference in conservation status rates."
   ]
  },
  {
   "cell_type": "code",
   "execution_count": 19,
   "metadata": {
    "hidden": true
   },
   "outputs": [
    {
     "data": {
      "text/plain": [
       "Chi2ContingencyResult(statistic=41.717457869992714, pvalue=1.0546306904975004e-10, dof=1, expected_freq=array([[ 47.55176614, 440.44823386],\n",
       "       [ 32.44823386, 300.55176614]]))"
      ]
     },
     "execution_count": 19,
     "metadata": {},
     "output_type": "execute_result"
    }
   ],
   "source": [
    "contingency_Bird_NonVasc = category_counts[(category_counts.category == 'Nonvascular Plant')\\\n",
    "                           |(category_counts.category == 'Bird')]\\\n",
    "                        [['Protected','Not protected']].values.tolist()\n",
    "chi2_contingency(contingency_Bird_NonVasc)"
   ]
  },
  {
   "cell_type": "code",
   "execution_count": 20,
   "metadata": {
    "hidden": true
   },
   "outputs": [
    {
     "data": {
      "text/plain": [
       "Chi2ContingencyResult(statistic=354.42332680820607, pvalue=4.612268031690143e-79, dof=1, expected_freq=array([[  12.43115789,  475.56884211],\n",
       "       [ 108.56884211, 4153.43115789]]))"
      ]
     },
     "execution_count": 20,
     "metadata": {},
     "output_type": "execute_result"
    }
   ],
   "source": [
    "contingency_Bird_Vasc = category_counts[(category_counts.category == 'Vascular Plant')\\\n",
    "                           |(category_counts.category == 'Bird')]\\\n",
    "                        [['Protected','Not protected']].values.tolist()\n",
    "chi2_contingency(contingency_Bird_Vasc)"
   ]
  },
  {
   "cell_type": "markdown",
   "metadata": {
    "hidden": true
   },
   "source": [
    "We now show two example with mammals populations, first compared with amphibian and then with reptiles. In the first case, the chi-square test gives a p-value of 0.13, and there is no statistical significance in conservation rates. In the second case, however, the p-value is 0.04, and it seems that there is statistical difference in conservation rates."
   ]
  },
  {
   "cell_type": "code",
   "execution_count": 21,
   "metadata": {
    "hidden": true
   },
   "outputs": [
    {
     "data": {
      "text/plain": [
       "Chi2ContingencyResult(statistic=2.321746712946015, pvalue=0.12757669693198975, dof=1, expected_freq=array([[ 11.4627451,  67.5372549],\n",
       "       [ 25.5372549, 150.4627451]]))"
      ]
     },
     "execution_count": 21,
     "metadata": {},
     "output_type": "execute_result"
    }
   ],
   "source": [
    "contingency_Mammal_Amph = category_counts[(category_counts.category == 'Mammal')\\\n",
    "                           |(category_counts.category == 'Amphibian')]\\\n",
    "                        [['Protected','Not protected']].values.tolist()\n",
    "chi2_contingency(contingency_Mammal_Amph)"
   ]
  },
  {
   "cell_type": "code",
   "execution_count": 22,
   "metadata": {
    "hidden": true
   },
   "outputs": [
    {
     "data": {
      "text/plain": [
       "Chi2ContingencyResult(statistic=4.289183096203645, pvalue=0.03835559022969898, dof=1, expected_freq=array([[ 24.2519685, 151.7480315],\n",
       "       [ 10.7480315,  67.2519685]]))"
      ]
     },
     "execution_count": 22,
     "metadata": {},
     "output_type": "execute_result"
    }
   ],
   "source": [
    "contingency_Mammal_Rept = category_counts[(category_counts.category == 'Mammal')\\\n",
    "                           |(category_counts.category == 'Reptile')]\\\n",
    "                        [['Protected','Not protected']].values.tolist()\n",
    "chi2_contingency(contingency_Mammal_Rept)"
   ]
  },
  {
   "cell_type": "markdown",
   "metadata": {
    "heading_collapsed": true,
    "hidden": true
   },
   "source": [
    "### Species information\n",
    "\n",
    "The analysis now focus on data from recording of sightings of different species at several national parks for the past 7 days. We will focus on the `Bird` category.\n",
    "\n",
    "The first step is to look at the the common names from species to get an idea of the most prevalent animals in the dataset. The data will be need to be split up into individual names."
   ]
  },
  {
   "cell_type": "code",
   "execution_count": 23,
   "metadata": {
    "hidden": true
   },
   "outputs": [
    {
     "data": {
      "text/plain": [
       "[['Brewsters', 'Warbler'],\n",
       " ['Coopers', 'Hawk'],\n",
       " ['Northern', 'Goshawk'],\n",
       " ['SharpShinned', 'Hawk'],\n",
       " ['Golden', 'Eagle'],\n",
       " ['RedTailed', 'Hawk']]"
      ]
     },
     "execution_count": 23,
     "metadata": {},
     "output_type": "execute_result"
    }
   ],
   "source": [
    "from itertools import chain\n",
    "import string\n",
    "\n",
    "def remove_punctuations(text):\n",
    "    for punctuation in string.punctuation:\n",
    "        text = text.replace(punctuation, '')\n",
    "    return text\n",
    "\n",
    "common_Names = df_spec[df_spec.category == \"Bird\"]\\\n",
    "    .common_names\\\n",
    "    .apply(remove_punctuations)\\\n",
    "    .str.split().tolist()\n",
    "\n",
    "common_Names[:6]"
   ]
  },
  {
   "cell_type": "markdown",
   "metadata": {
    "hidden": true
   },
   "source": [
    "The next step is to clean up duplicate words in each row, to avoid counting them more than once per species. Then the words need to be collapsed into one list for easier use."
   ]
  },
  {
   "cell_type": "code",
   "execution_count": 24,
   "metadata": {
    "hidden": true
   },
   "outputs": [
    {
     "data": {
      "text/plain": [
       "[['Brewsters', 'Warbler'],\n",
       " ['Coopers', 'Hawk'],\n",
       " ['Northern', 'Goshawk'],\n",
       " ['SharpShinned', 'Hawk'],\n",
       " ['Golden', 'Eagle'],\n",
       " ['RedTailed', 'Hawk']]"
      ]
     },
     "execution_count": 24,
     "metadata": {},
     "output_type": "execute_result"
    }
   ],
   "source": [
    "cleanRows = []\n",
    "\n",
    "for item in common_Names:\n",
    "    item = list(dict.fromkeys(item))\n",
    "    cleanRows.append(item)\n",
    "    \n",
    "cleanRows[:6]"
   ]
  },
  {
   "cell_type": "code",
   "execution_count": 25,
   "metadata": {
    "hidden": true
   },
   "outputs": [
    {
     "data": {
      "text/plain": [
       "['Brewsters', 'Warbler', 'Coopers', 'Hawk', 'Northern', 'Goshawk']"
      ]
     },
     "execution_count": 25,
     "metadata": {},
     "output_type": "execute_result"
    }
   ],
   "source": [
    "res = list(chain.from_iterable(i if isinstance(i, list) else [i] for i in cleanRows))\n",
    "res[:6]"
   ]
  },
  {
   "cell_type": "markdown",
   "metadata": {
    "hidden": true
   },
   "source": [
    "Now the data is ready to be able to count the number of occurrences of each word. The analysis shows that the most frequent species is `warbler`, which appeared 59 times."
   ]
  },
  {
   "cell_type": "code",
   "execution_count": 26,
   "metadata": {
    "hidden": true
   },
   "outputs": [
    {
     "data": {
      "text/html": [
       "<div>\n",
       "<style scoped>\n",
       "    .dataframe tbody tr th:only-of-type {\n",
       "        vertical-align: middle;\n",
       "    }\n",
       "\n",
       "    .dataframe tbody tr th {\n",
       "        vertical-align: top;\n",
       "    }\n",
       "\n",
       "    .dataframe thead th {\n",
       "        text-align: right;\n",
       "    }\n",
       "</style>\n",
       "<table border=\"1\" class=\"dataframe\">\n",
       "  <thead>\n",
       "    <tr style=\"text-align: right;\">\n",
       "      <th></th>\n",
       "      <th>Word</th>\n",
       "      <th>Count</th>\n",
       "    </tr>\n",
       "  </thead>\n",
       "  <tbody>\n",
       "    <tr>\n",
       "      <th>367</th>\n",
       "      <td>Warbler</td>\n",
       "      <td>59</td>\n",
       "    </tr>\n",
       "    <tr>\n",
       "      <th>336</th>\n",
       "      <td>Sparrow</td>\n",
       "      <td>29</td>\n",
       "    </tr>\n",
       "    <tr>\n",
       "      <th>295</th>\n",
       "      <td>American</td>\n",
       "      <td>21</td>\n",
       "    </tr>\n",
       "    <tr>\n",
       "      <th>284</th>\n",
       "      <td>Northern</td>\n",
       "      <td>20</td>\n",
       "    </tr>\n",
       "    <tr>\n",
       "      <th>270</th>\n",
       "      <td>Owl</td>\n",
       "      <td>18</td>\n",
       "    </tr>\n",
       "    <tr>\n",
       "      <th>115</th>\n",
       "      <td>Flycatcher</td>\n",
       "      <td>18</td>\n",
       "    </tr>\n",
       "    <tr>\n",
       "      <th>260</th>\n",
       "      <td>Common</td>\n",
       "      <td>18</td>\n",
       "    </tr>\n",
       "    <tr>\n",
       "      <th>390</th>\n",
       "      <td>Western</td>\n",
       "      <td>12</td>\n",
       "    </tr>\n",
       "    <tr>\n",
       "      <th>195</th>\n",
       "      <td>Woodpecker</td>\n",
       "      <td>12</td>\n",
       "    </tr>\n",
       "    <tr>\n",
       "      <th>311</th>\n",
       "      <td>Sandpiper</td>\n",
       "      <td>11</td>\n",
       "    </tr>\n",
       "  </tbody>\n",
       "</table>\n",
       "</div>"
      ],
      "text/plain": [
       "           Word  Count\n",
       "367     Warbler     59\n",
       "336     Sparrow     29\n",
       "295    American     21\n",
       "284    Northern     20\n",
       "270         Owl     18\n",
       "115  Flycatcher     18\n",
       "260      Common     18\n",
       "390     Western     12\n",
       "195  Woodpecker     12\n",
       "311   Sandpiper     11"
      ]
     },
     "execution_count": 26,
     "metadata": {},
     "output_type": "execute_result"
    }
   ],
   "source": [
    "words_counted = []\n",
    "\n",
    "for i in res:\n",
    "    x = res.count(i)\n",
    "    words_counted.append((i,x))\n",
    "\n",
    "pd.DataFrame(set(words_counted), columns =['Word', 'Count']).sort_values(\"Count\", ascending = False).head(10)"
   ]
  },
  {
   "cell_type": "markdown",
   "metadata": {
    "hidden": true
   },
   "source": [
    "In the data, there are several different scientific names for different types of warblers. The next task is to figure out which rows of species are referring to warblers. A new column made up of boolean values will be created to check if is_warb is True."
   ]
  },
  {
   "cell_type": "code",
   "execution_count": 27,
   "metadata": {
    "hidden": true
   },
   "outputs": [
    {
     "data": {
      "text/html": [
       "<div>\n",
       "<style scoped>\n",
       "    .dataframe tbody tr th:only-of-type {\n",
       "        vertical-align: middle;\n",
       "    }\n",
       "\n",
       "    .dataframe tbody tr th {\n",
       "        vertical-align: top;\n",
       "    }\n",
       "\n",
       "    .dataframe thead th {\n",
       "        text-align: right;\n",
       "    }\n",
       "</style>\n",
       "<table border=\"1\" class=\"dataframe\">\n",
       "  <thead>\n",
       "    <tr style=\"text-align: right;\">\n",
       "      <th></th>\n",
       "      <th>category</th>\n",
       "      <th>scientific_name</th>\n",
       "      <th>common_names</th>\n",
       "      <th>conservation_status</th>\n",
       "      <th>Protected</th>\n",
       "      <th>is_warb</th>\n",
       "    </tr>\n",
       "  </thead>\n",
       "  <tbody>\n",
       "    <tr>\n",
       "      <th>0</th>\n",
       "      <td>Mammal</td>\n",
       "      <td>Clethrionomys gapperi gapperi</td>\n",
       "      <td>Gapper's Red-Backed Vole</td>\n",
       "      <td>Non-endangered</td>\n",
       "      <td>False</td>\n",
       "      <td>False</td>\n",
       "    </tr>\n",
       "    <tr>\n",
       "      <th>1</th>\n",
       "      <td>Mammal</td>\n",
       "      <td>Bos bison</td>\n",
       "      <td>American Bison, Bison</td>\n",
       "      <td>Non-endangered</td>\n",
       "      <td>False</td>\n",
       "      <td>False</td>\n",
       "    </tr>\n",
       "    <tr>\n",
       "      <th>2</th>\n",
       "      <td>Mammal</td>\n",
       "      <td>Bos taurus</td>\n",
       "      <td>Aurochs, Aurochs, Domestic Cattle (Feral), Dom...</td>\n",
       "      <td>Non-endangered</td>\n",
       "      <td>False</td>\n",
       "      <td>False</td>\n",
       "    </tr>\n",
       "    <tr>\n",
       "      <th>3</th>\n",
       "      <td>Mammal</td>\n",
       "      <td>Ovis aries</td>\n",
       "      <td>Domestic Sheep, Mouflon, Red Sheep, Sheep (Feral)</td>\n",
       "      <td>Non-endangered</td>\n",
       "      <td>False</td>\n",
       "      <td>False</td>\n",
       "    </tr>\n",
       "    <tr>\n",
       "      <th>4</th>\n",
       "      <td>Mammal</td>\n",
       "      <td>Cervus elaphus</td>\n",
       "      <td>Wapiti Or Elk</td>\n",
       "      <td>Non-endangered</td>\n",
       "      <td>False</td>\n",
       "      <td>False</td>\n",
       "    </tr>\n",
       "    <tr>\n",
       "      <th>5</th>\n",
       "      <td>Mammal</td>\n",
       "      <td>Odocoileus virginianus</td>\n",
       "      <td>White-Tailed Deer</td>\n",
       "      <td>Non-endangered</td>\n",
       "      <td>False</td>\n",
       "      <td>False</td>\n",
       "    </tr>\n",
       "    <tr>\n",
       "      <th>6</th>\n",
       "      <td>Mammal</td>\n",
       "      <td>Sus scrofa</td>\n",
       "      <td>Feral Hog, Wild Pig</td>\n",
       "      <td>Non-endangered</td>\n",
       "      <td>False</td>\n",
       "      <td>False</td>\n",
       "    </tr>\n",
       "    <tr>\n",
       "      <th>7</th>\n",
       "      <td>Mammal</td>\n",
       "      <td>Canis latrans</td>\n",
       "      <td>Coyote</td>\n",
       "      <td>Species of Concern</td>\n",
       "      <td>True</td>\n",
       "      <td>False</td>\n",
       "    </tr>\n",
       "    <tr>\n",
       "      <th>8</th>\n",
       "      <td>Mammal</td>\n",
       "      <td>Canis lupus</td>\n",
       "      <td>Gray Wolf</td>\n",
       "      <td>Endangered</td>\n",
       "      <td>True</td>\n",
       "      <td>False</td>\n",
       "    </tr>\n",
       "    <tr>\n",
       "      <th>9</th>\n",
       "      <td>Mammal</td>\n",
       "      <td>Canis rufus</td>\n",
       "      <td>Red Wolf</td>\n",
       "      <td>Endangered</td>\n",
       "      <td>True</td>\n",
       "      <td>False</td>\n",
       "    </tr>\n",
       "  </tbody>\n",
       "</table>\n",
       "</div>"
      ],
      "text/plain": [
       "  category                scientific_name  \\\n",
       "0   Mammal  Clethrionomys gapperi gapperi   \n",
       "1   Mammal                      Bos bison   \n",
       "2   Mammal                     Bos taurus   \n",
       "3   Mammal                     Ovis aries   \n",
       "4   Mammal                 Cervus elaphus   \n",
       "5   Mammal         Odocoileus virginianus   \n",
       "6   Mammal                     Sus scrofa   \n",
       "7   Mammal                  Canis latrans   \n",
       "8   Mammal                    Canis lupus   \n",
       "9   Mammal                    Canis rufus   \n",
       "\n",
       "                                        common_names conservation_status  \\\n",
       "0                           Gapper's Red-Backed Vole      Non-endangered   \n",
       "1                              American Bison, Bison      Non-endangered   \n",
       "2  Aurochs, Aurochs, Domestic Cattle (Feral), Dom...      Non-endangered   \n",
       "3  Domestic Sheep, Mouflon, Red Sheep, Sheep (Feral)      Non-endangered   \n",
       "4                                      Wapiti Or Elk      Non-endangered   \n",
       "5                                  White-Tailed Deer      Non-endangered   \n",
       "6                                Feral Hog, Wild Pig      Non-endangered   \n",
       "7                                             Coyote  Species of Concern   \n",
       "8                                          Gray Wolf          Endangered   \n",
       "9                                           Red Wolf          Endangered   \n",
       "\n",
       "   Protected  is_warb  \n",
       "0      False    False  \n",
       "1      False    False  \n",
       "2      False    False  \n",
       "3      False    False  \n",
       "4      False    False  \n",
       "5      False    False  \n",
       "6      False    False  \n",
       "7       True    False  \n",
       "8       True    False  \n",
       "9       True    False  "
      ]
     },
     "execution_count": 27,
     "metadata": {},
     "output_type": "execute_result"
    }
   ],
   "source": [
    "df_spec['is_warb'] = df_spec.common_names.str.contains(r\"\\bWarbler\\b\", regex = True)\n",
    "\n",
    "df_spec.head(10)"
   ]
  },
  {
   "cell_type": "markdown",
   "metadata": {
    "hidden": true
   },
   "source": [
    "Here is a subset of the data where is_warb is true, returning see the rows that matched. There seems to be a lot of species of warblers, prevalently non-protected."
   ]
  },
  {
   "cell_type": "code",
   "execution_count": 28,
   "metadata": {
    "hidden": true
   },
   "outputs": [
    {
     "data": {
      "text/html": [
       "<div>\n",
       "<style scoped>\n",
       "    .dataframe tbody tr th:only-of-type {\n",
       "        vertical-align: middle;\n",
       "    }\n",
       "\n",
       "    .dataframe tbody tr th {\n",
       "        vertical-align: top;\n",
       "    }\n",
       "\n",
       "    .dataframe thead th {\n",
       "        text-align: right;\n",
       "    }\n",
       "</style>\n",
       "<table border=\"1\" class=\"dataframe\">\n",
       "  <thead>\n",
       "    <tr style=\"text-align: right;\">\n",
       "      <th></th>\n",
       "      <th>category</th>\n",
       "      <th>scientific_name</th>\n",
       "      <th>common_names</th>\n",
       "      <th>conservation_status</th>\n",
       "      <th>Protected</th>\n",
       "      <th>is_warb</th>\n",
       "    </tr>\n",
       "  </thead>\n",
       "  <tbody>\n",
       "    <tr>\n",
       "      <th>90</th>\n",
       "      <td>Bird</td>\n",
       "      <td>Vermivora pinus X chrysoptera</td>\n",
       "      <td>Brewster's Warbler</td>\n",
       "      <td>Non-endangered</td>\n",
       "      <td>False</td>\n",
       "      <td>True</td>\n",
       "    </tr>\n",
       "    <tr>\n",
       "      <th>247</th>\n",
       "      <td>Bird</td>\n",
       "      <td>Dendroica caerulescens</td>\n",
       "      <td>Black-Throated Blue Warbler</td>\n",
       "      <td>Non-endangered</td>\n",
       "      <td>False</td>\n",
       "      <td>True</td>\n",
       "    </tr>\n",
       "    <tr>\n",
       "      <th>248</th>\n",
       "      <td>Bird</td>\n",
       "      <td>Dendroica castanea</td>\n",
       "      <td>Bay-Breasted Warbler</td>\n",
       "      <td>Non-endangered</td>\n",
       "      <td>False</td>\n",
       "      <td>True</td>\n",
       "    </tr>\n",
       "    <tr>\n",
       "      <th>249</th>\n",
       "      <td>Bird</td>\n",
       "      <td>Dendroica cerulea</td>\n",
       "      <td>Cerulean Warbler</td>\n",
       "      <td>Non-endangered</td>\n",
       "      <td>False</td>\n",
       "      <td>True</td>\n",
       "    </tr>\n",
       "    <tr>\n",
       "      <th>250</th>\n",
       "      <td>Bird</td>\n",
       "      <td>Dendroica coronata</td>\n",
       "      <td>Yellow-Rumped Warbler</td>\n",
       "      <td>Non-endangered</td>\n",
       "      <td>False</td>\n",
       "      <td>True</td>\n",
       "    </tr>\n",
       "    <tr>\n",
       "      <th>251</th>\n",
       "      <td>Bird</td>\n",
       "      <td>Dendroica discolor</td>\n",
       "      <td>Prairie Warbler</td>\n",
       "      <td>Non-endangered</td>\n",
       "      <td>False</td>\n",
       "      <td>True</td>\n",
       "    </tr>\n",
       "    <tr>\n",
       "      <th>252</th>\n",
       "      <td>Bird</td>\n",
       "      <td>Dendroica dominica</td>\n",
       "      <td>Yellow-Throated Warbler</td>\n",
       "      <td>Non-endangered</td>\n",
       "      <td>False</td>\n",
       "      <td>True</td>\n",
       "    </tr>\n",
       "    <tr>\n",
       "      <th>253</th>\n",
       "      <td>Bird</td>\n",
       "      <td>Dendroica fusca</td>\n",
       "      <td>Blackburnian Warbler</td>\n",
       "      <td>Non-endangered</td>\n",
       "      <td>False</td>\n",
       "      <td>True</td>\n",
       "    </tr>\n",
       "    <tr>\n",
       "      <th>254</th>\n",
       "      <td>Bird</td>\n",
       "      <td>Dendroica magnolia</td>\n",
       "      <td>Magnolia Warbler</td>\n",
       "      <td>Non-endangered</td>\n",
       "      <td>False</td>\n",
       "      <td>True</td>\n",
       "    </tr>\n",
       "    <tr>\n",
       "      <th>255</th>\n",
       "      <td>Bird</td>\n",
       "      <td>Dendroica palmarum</td>\n",
       "      <td>Palm Warbler</td>\n",
       "      <td>Non-endangered</td>\n",
       "      <td>False</td>\n",
       "      <td>True</td>\n",
       "    </tr>\n",
       "    <tr>\n",
       "      <th>256</th>\n",
       "      <td>Bird</td>\n",
       "      <td>Dendroica pensylvanica</td>\n",
       "      <td>Chestnut-Sided Warbler</td>\n",
       "      <td>Non-endangered</td>\n",
       "      <td>False</td>\n",
       "      <td>True</td>\n",
       "    </tr>\n",
       "    <tr>\n",
       "      <th>257</th>\n",
       "      <td>Bird</td>\n",
       "      <td>Dendroica petechia</td>\n",
       "      <td>Yellow Warbler</td>\n",
       "      <td>Non-endangered</td>\n",
       "      <td>False</td>\n",
       "      <td>True</td>\n",
       "    </tr>\n",
       "    <tr>\n",
       "      <th>258</th>\n",
       "      <td>Bird</td>\n",
       "      <td>Dendroica pinus</td>\n",
       "      <td>Pine Warbler</td>\n",
       "      <td>Non-endangered</td>\n",
       "      <td>False</td>\n",
       "      <td>True</td>\n",
       "    </tr>\n",
       "    <tr>\n",
       "      <th>259</th>\n",
       "      <td>Bird</td>\n",
       "      <td>Dendroica striata</td>\n",
       "      <td>Blackpoll Warbler</td>\n",
       "      <td>Non-endangered</td>\n",
       "      <td>False</td>\n",
       "      <td>True</td>\n",
       "    </tr>\n",
       "    <tr>\n",
       "      <th>260</th>\n",
       "      <td>Bird</td>\n",
       "      <td>Dendroica tigrina</td>\n",
       "      <td>Cape May Warbler</td>\n",
       "      <td>Non-endangered</td>\n",
       "      <td>False</td>\n",
       "      <td>True</td>\n",
       "    </tr>\n",
       "    <tr>\n",
       "      <th>261</th>\n",
       "      <td>Bird</td>\n",
       "      <td>Dendroica virens</td>\n",
       "      <td>Black-Throated Green Warbler</td>\n",
       "      <td>Non-endangered</td>\n",
       "      <td>False</td>\n",
       "      <td>True</td>\n",
       "    </tr>\n",
       "    <tr>\n",
       "      <th>263</th>\n",
       "      <td>Bird</td>\n",
       "      <td>Helmitheros vermivorus</td>\n",
       "      <td>Worm-Eating Warbler</td>\n",
       "      <td>Non-endangered</td>\n",
       "      <td>False</td>\n",
       "      <td>True</td>\n",
       "    </tr>\n",
       "    <tr>\n",
       "      <th>265</th>\n",
       "      <td>Bird</td>\n",
       "      <td>Limnothlypis swainsonii</td>\n",
       "      <td>Swainson's Warbler</td>\n",
       "      <td>Non-endangered</td>\n",
       "      <td>False</td>\n",
       "      <td>True</td>\n",
       "    </tr>\n",
       "    <tr>\n",
       "      <th>266</th>\n",
       "      <td>Bird</td>\n",
       "      <td>Mniotilta varia</td>\n",
       "      <td>Black-And-White Warbler</td>\n",
       "      <td>Non-endangered</td>\n",
       "      <td>False</td>\n",
       "      <td>True</td>\n",
       "    </tr>\n",
       "    <tr>\n",
       "      <th>267</th>\n",
       "      <td>Bird</td>\n",
       "      <td>Oporornis agilis</td>\n",
       "      <td>Connecticut Warbler</td>\n",
       "      <td>Non-endangered</td>\n",
       "      <td>False</td>\n",
       "      <td>True</td>\n",
       "    </tr>\n",
       "    <tr>\n",
       "      <th>268</th>\n",
       "      <td>Bird</td>\n",
       "      <td>Oporornis formosus</td>\n",
       "      <td>Kentucky Warbler</td>\n",
       "      <td>Non-endangered</td>\n",
       "      <td>False</td>\n",
       "      <td>True</td>\n",
       "    </tr>\n",
       "    <tr>\n",
       "      <th>269</th>\n",
       "      <td>Bird</td>\n",
       "      <td>Oporornis philadelphia</td>\n",
       "      <td>Mourning Warbler</td>\n",
       "      <td>Non-endangered</td>\n",
       "      <td>False</td>\n",
       "      <td>True</td>\n",
       "    </tr>\n",
       "    <tr>\n",
       "      <th>271</th>\n",
       "      <td>Bird</td>\n",
       "      <td>Protonotaria citrea</td>\n",
       "      <td>Prothonotary Warbler</td>\n",
       "      <td>Non-endangered</td>\n",
       "      <td>False</td>\n",
       "      <td>True</td>\n",
       "    </tr>\n",
       "    <tr>\n",
       "      <th>276</th>\n",
       "      <td>Bird</td>\n",
       "      <td>Vermivora bachmanii</td>\n",
       "      <td>Bachman's Warbler, Bachman's Wood Warbler</td>\n",
       "      <td>Endangered</td>\n",
       "      <td>True</td>\n",
       "      <td>True</td>\n",
       "    </tr>\n",
       "    <tr>\n",
       "      <th>277</th>\n",
       "      <td>Bird</td>\n",
       "      <td>Vermivora celata</td>\n",
       "      <td>Orange-Crowned Warbler</td>\n",
       "      <td>Non-endangered</td>\n",
       "      <td>False</td>\n",
       "      <td>True</td>\n",
       "    </tr>\n",
       "    <tr>\n",
       "      <th>278</th>\n",
       "      <td>Bird</td>\n",
       "      <td>Vermivora chrysoptera X pinus</td>\n",
       "      <td>Brewster's Warbler</td>\n",
       "      <td>Non-endangered</td>\n",
       "      <td>False</td>\n",
       "      <td>True</td>\n",
       "    </tr>\n",
       "    <tr>\n",
       "      <th>279</th>\n",
       "      <td>Bird</td>\n",
       "      <td>Vermivora lawrencei</td>\n",
       "      <td>Lawrence's Warbler</td>\n",
       "      <td>Non-endangered</td>\n",
       "      <td>False</td>\n",
       "      <td>True</td>\n",
       "    </tr>\n",
       "    <tr>\n",
       "      <th>280</th>\n",
       "      <td>Bird</td>\n",
       "      <td>Vermivora lawrencii</td>\n",
       "      <td>Lawrence's Warbler</td>\n",
       "      <td>Non-endangered</td>\n",
       "      <td>False</td>\n",
       "      <td>True</td>\n",
       "    </tr>\n",
       "    <tr>\n",
       "      <th>281</th>\n",
       "      <td>Bird</td>\n",
       "      <td>Vermivora leucobronchialis</td>\n",
       "      <td>Brewster's Warbler</td>\n",
       "      <td>Non-endangered</td>\n",
       "      <td>False</td>\n",
       "      <td>True</td>\n",
       "    </tr>\n",
       "    <tr>\n",
       "      <th>282</th>\n",
       "      <td>Bird</td>\n",
       "      <td>Vermivora peregrina</td>\n",
       "      <td>Tennessee Warbler</td>\n",
       "      <td>Non-endangered</td>\n",
       "      <td>False</td>\n",
       "      <td>True</td>\n",
       "    </tr>\n",
       "    <tr>\n",
       "      <th>283</th>\n",
       "      <td>Bird</td>\n",
       "      <td>Vermivora pinus</td>\n",
       "      <td>Blue-Winged Warbler</td>\n",
       "      <td>Non-endangered</td>\n",
       "      <td>False</td>\n",
       "      <td>True</td>\n",
       "    </tr>\n",
       "    <tr>\n",
       "      <th>284</th>\n",
       "      <td>Bird</td>\n",
       "      <td>Vermivora ruficapilla</td>\n",
       "      <td>Nashville Warbler</td>\n",
       "      <td>Species of Concern</td>\n",
       "      <td>True</td>\n",
       "      <td>True</td>\n",
       "    </tr>\n",
       "    <tr>\n",
       "      <th>285</th>\n",
       "      <td>Bird</td>\n",
       "      <td>Wilsonia canadensis</td>\n",
       "      <td>Canada Warbler</td>\n",
       "      <td>Non-endangered</td>\n",
       "      <td>False</td>\n",
       "      <td>True</td>\n",
       "    </tr>\n",
       "    <tr>\n",
       "      <th>286</th>\n",
       "      <td>Bird</td>\n",
       "      <td>Wilsonia citrina</td>\n",
       "      <td>Hooded Warbler</td>\n",
       "      <td>Non-endangered</td>\n",
       "      <td>False</td>\n",
       "      <td>True</td>\n",
       "    </tr>\n",
       "    <tr>\n",
       "      <th>287</th>\n",
       "      <td>Bird</td>\n",
       "      <td>Wilsonia pusilla</td>\n",
       "      <td>Wilson's Warbler</td>\n",
       "      <td>Species of Concern</td>\n",
       "      <td>True</td>\n",
       "      <td>True</td>\n",
       "    </tr>\n",
       "    <tr>\n",
       "      <th>3196</th>\n",
       "      <td>Bird</td>\n",
       "      <td>Cardellina pusilla</td>\n",
       "      <td>Wilson's Warbler</td>\n",
       "      <td>Non-endangered</td>\n",
       "      <td>False</td>\n",
       "      <td>True</td>\n",
       "    </tr>\n",
       "    <tr>\n",
       "      <th>3197</th>\n",
       "      <td>Bird</td>\n",
       "      <td>Oreothlypis celata</td>\n",
       "      <td>Orange-Crowned Warbler</td>\n",
       "      <td>Non-endangered</td>\n",
       "      <td>False</td>\n",
       "      <td>True</td>\n",
       "    </tr>\n",
       "    <tr>\n",
       "      <th>3198</th>\n",
       "      <td>Bird</td>\n",
       "      <td>Oreothlypis peregrina</td>\n",
       "      <td>Tennessee Warbler</td>\n",
       "      <td>Non-endangered</td>\n",
       "      <td>False</td>\n",
       "      <td>True</td>\n",
       "    </tr>\n",
       "    <tr>\n",
       "      <th>3199</th>\n",
       "      <td>Bird</td>\n",
       "      <td>Oreothlypis ruficapilla</td>\n",
       "      <td>Nashville Warbler</td>\n",
       "      <td>Non-endangered</td>\n",
       "      <td>False</td>\n",
       "      <td>True</td>\n",
       "    </tr>\n",
       "    <tr>\n",
       "      <th>3200</th>\n",
       "      <td>Bird</td>\n",
       "      <td>Oreothlypis virginiae</td>\n",
       "      <td>Virginia's Warbler</td>\n",
       "      <td>Non-endangered</td>\n",
       "      <td>False</td>\n",
       "      <td>True</td>\n",
       "    </tr>\n",
       "    <tr>\n",
       "      <th>3202</th>\n",
       "      <td>Bird</td>\n",
       "      <td>Setophaga castanea</td>\n",
       "      <td>Bay-Breasted Warbler</td>\n",
       "      <td>Non-endangered</td>\n",
       "      <td>False</td>\n",
       "      <td>True</td>\n",
       "    </tr>\n",
       "    <tr>\n",
       "      <th>3203</th>\n",
       "      <td>Bird</td>\n",
       "      <td>Setophaga citrina</td>\n",
       "      <td>Hooded Warbler</td>\n",
       "      <td>Non-endangered</td>\n",
       "      <td>False</td>\n",
       "      <td>True</td>\n",
       "    </tr>\n",
       "    <tr>\n",
       "      <th>3204</th>\n",
       "      <td>Bird</td>\n",
       "      <td>Setophaga coronata</td>\n",
       "      <td>Yellow-Rumped Warbler</td>\n",
       "      <td>Non-endangered</td>\n",
       "      <td>False</td>\n",
       "      <td>True</td>\n",
       "    </tr>\n",
       "    <tr>\n",
       "      <th>3205</th>\n",
       "      <td>Bird</td>\n",
       "      <td>Setophaga discolor</td>\n",
       "      <td>Prairie Warbler</td>\n",
       "      <td>Non-endangered</td>\n",
       "      <td>False</td>\n",
       "      <td>True</td>\n",
       "    </tr>\n",
       "    <tr>\n",
       "      <th>3206</th>\n",
       "      <td>Bird</td>\n",
       "      <td>Setophaga dominica</td>\n",
       "      <td>Yellow-Throated Warbler</td>\n",
       "      <td>Non-endangered</td>\n",
       "      <td>False</td>\n",
       "      <td>True</td>\n",
       "    </tr>\n",
       "    <tr>\n",
       "      <th>3207</th>\n",
       "      <td>Bird</td>\n",
       "      <td>Setophaga fusca</td>\n",
       "      <td>Blackburnian Warbler</td>\n",
       "      <td>Non-endangered</td>\n",
       "      <td>False</td>\n",
       "      <td>True</td>\n",
       "    </tr>\n",
       "    <tr>\n",
       "      <th>3208</th>\n",
       "      <td>Bird</td>\n",
       "      <td>Setophaga palmarum</td>\n",
       "      <td>Palm Warbler</td>\n",
       "      <td>Non-endangered</td>\n",
       "      <td>False</td>\n",
       "      <td>True</td>\n",
       "    </tr>\n",
       "    <tr>\n",
       "      <th>3209</th>\n",
       "      <td>Bird</td>\n",
       "      <td>Setophaga pensylvanica</td>\n",
       "      <td>Chestnut-Sided Warbler</td>\n",
       "      <td>Non-endangered</td>\n",
       "      <td>False</td>\n",
       "      <td>True</td>\n",
       "    </tr>\n",
       "    <tr>\n",
       "      <th>3210</th>\n",
       "      <td>Bird</td>\n",
       "      <td>Setophaga petechia</td>\n",
       "      <td>Yellow Warbler</td>\n",
       "      <td>Non-endangered</td>\n",
       "      <td>False</td>\n",
       "      <td>True</td>\n",
       "    </tr>\n",
       "    <tr>\n",
       "      <th>3211</th>\n",
       "      <td>Bird</td>\n",
       "      <td>Setophaga striata</td>\n",
       "      <td>Blackpoll Warbler</td>\n",
       "      <td>Non-endangered</td>\n",
       "      <td>False</td>\n",
       "      <td>True</td>\n",
       "    </tr>\n",
       "    <tr>\n",
       "      <th>3212</th>\n",
       "      <td>Bird</td>\n",
       "      <td>Setophaga tigrina</td>\n",
       "      <td>Cape May Warbler</td>\n",
       "      <td>Non-endangered</td>\n",
       "      <td>False</td>\n",
       "      <td>True</td>\n",
       "    </tr>\n",
       "    <tr>\n",
       "      <th>3213</th>\n",
       "      <td>Bird</td>\n",
       "      <td>Setophaga townsendi</td>\n",
       "      <td>Townsend's Warbler</td>\n",
       "      <td>Non-endangered</td>\n",
       "      <td>False</td>\n",
       "      <td>True</td>\n",
       "    </tr>\n",
       "    <tr>\n",
       "      <th>4546</th>\n",
       "      <td>Bird</td>\n",
       "      <td>Geothlypis tolmiei</td>\n",
       "      <td>Macgillivray's Warbler</td>\n",
       "      <td>Non-endangered</td>\n",
       "      <td>False</td>\n",
       "      <td>True</td>\n",
       "    </tr>\n",
       "    <tr>\n",
       "      <th>4549</th>\n",
       "      <td>Bird</td>\n",
       "      <td>Setophaga cerulea</td>\n",
       "      <td>Cerulean Warbler</td>\n",
       "      <td>Non-endangered</td>\n",
       "      <td>False</td>\n",
       "      <td>True</td>\n",
       "    </tr>\n",
       "    <tr>\n",
       "      <th>4550</th>\n",
       "      <td>Bird</td>\n",
       "      <td>Setophaga coronata auduboni</td>\n",
       "      <td>Audubon's Warbler</td>\n",
       "      <td>Non-endangered</td>\n",
       "      <td>False</td>\n",
       "      <td>True</td>\n",
       "    </tr>\n",
       "    <tr>\n",
       "      <th>4551</th>\n",
       "      <td>Bird</td>\n",
       "      <td>Setophaga coronata coronata</td>\n",
       "      <td>Myrtle Warbler (Yellow-Rumped)</td>\n",
       "      <td>Non-endangered</td>\n",
       "      <td>False</td>\n",
       "      <td>True</td>\n",
       "    </tr>\n",
       "    <tr>\n",
       "      <th>4552</th>\n",
       "      <td>Bird</td>\n",
       "      <td>Setophaga magnolia</td>\n",
       "      <td>Magnolia Warbler</td>\n",
       "      <td>Non-endangered</td>\n",
       "      <td>False</td>\n",
       "      <td>True</td>\n",
       "    </tr>\n",
       "    <tr>\n",
       "      <th>4553</th>\n",
       "      <td>Bird</td>\n",
       "      <td>Setophaga nigrescens</td>\n",
       "      <td>Black-Throated Gray Warbler</td>\n",
       "      <td>Non-endangered</td>\n",
       "      <td>False</td>\n",
       "      <td>True</td>\n",
       "    </tr>\n",
       "    <tr>\n",
       "      <th>4554</th>\n",
       "      <td>Bird</td>\n",
       "      <td>Setophaga occidentalis</td>\n",
       "      <td>Hermit Warbler</td>\n",
       "      <td>Non-endangered</td>\n",
       "      <td>False</td>\n",
       "      <td>True</td>\n",
       "    </tr>\n",
       "  </tbody>\n",
       "</table>\n",
       "</div>"
      ],
      "text/plain": [
       "     category                scientific_name  \\\n",
       "90       Bird  Vermivora pinus X chrysoptera   \n",
       "247      Bird         Dendroica caerulescens   \n",
       "248      Bird             Dendroica castanea   \n",
       "249      Bird              Dendroica cerulea   \n",
       "250      Bird             Dendroica coronata   \n",
       "251      Bird             Dendroica discolor   \n",
       "252      Bird             Dendroica dominica   \n",
       "253      Bird                Dendroica fusca   \n",
       "254      Bird             Dendroica magnolia   \n",
       "255      Bird             Dendroica palmarum   \n",
       "256      Bird         Dendroica pensylvanica   \n",
       "257      Bird             Dendroica petechia   \n",
       "258      Bird                Dendroica pinus   \n",
       "259      Bird              Dendroica striata   \n",
       "260      Bird              Dendroica tigrina   \n",
       "261      Bird               Dendroica virens   \n",
       "263      Bird         Helmitheros vermivorus   \n",
       "265      Bird        Limnothlypis swainsonii   \n",
       "266      Bird                Mniotilta varia   \n",
       "267      Bird               Oporornis agilis   \n",
       "268      Bird             Oporornis formosus   \n",
       "269      Bird         Oporornis philadelphia   \n",
       "271      Bird            Protonotaria citrea   \n",
       "276      Bird            Vermivora bachmanii   \n",
       "277      Bird               Vermivora celata   \n",
       "278      Bird  Vermivora chrysoptera X pinus   \n",
       "279      Bird            Vermivora lawrencei   \n",
       "280      Bird            Vermivora lawrencii   \n",
       "281      Bird     Vermivora leucobronchialis   \n",
       "282      Bird            Vermivora peregrina   \n",
       "283      Bird                Vermivora pinus   \n",
       "284      Bird          Vermivora ruficapilla   \n",
       "285      Bird            Wilsonia canadensis   \n",
       "286      Bird               Wilsonia citrina   \n",
       "287      Bird               Wilsonia pusilla   \n",
       "3196     Bird             Cardellina pusilla   \n",
       "3197     Bird             Oreothlypis celata   \n",
       "3198     Bird          Oreothlypis peregrina   \n",
       "3199     Bird        Oreothlypis ruficapilla   \n",
       "3200     Bird          Oreothlypis virginiae   \n",
       "3202     Bird             Setophaga castanea   \n",
       "3203     Bird              Setophaga citrina   \n",
       "3204     Bird             Setophaga coronata   \n",
       "3205     Bird             Setophaga discolor   \n",
       "3206     Bird             Setophaga dominica   \n",
       "3207     Bird                Setophaga fusca   \n",
       "3208     Bird             Setophaga palmarum   \n",
       "3209     Bird         Setophaga pensylvanica   \n",
       "3210     Bird             Setophaga petechia   \n",
       "3211     Bird              Setophaga striata   \n",
       "3212     Bird              Setophaga tigrina   \n",
       "3213     Bird            Setophaga townsendi   \n",
       "4546     Bird             Geothlypis tolmiei   \n",
       "4549     Bird              Setophaga cerulea   \n",
       "4550     Bird    Setophaga coronata auduboni   \n",
       "4551     Bird    Setophaga coronata coronata   \n",
       "4552     Bird             Setophaga magnolia   \n",
       "4553     Bird           Setophaga nigrescens   \n",
       "4554     Bird         Setophaga occidentalis   \n",
       "\n",
       "                                   common_names conservation_status  \\\n",
       "90                           Brewster's Warbler      Non-endangered   \n",
       "247                 Black-Throated Blue Warbler      Non-endangered   \n",
       "248                        Bay-Breasted Warbler      Non-endangered   \n",
       "249                            Cerulean Warbler      Non-endangered   \n",
       "250                       Yellow-Rumped Warbler      Non-endangered   \n",
       "251                             Prairie Warbler      Non-endangered   \n",
       "252                     Yellow-Throated Warbler      Non-endangered   \n",
       "253                        Blackburnian Warbler      Non-endangered   \n",
       "254                            Magnolia Warbler      Non-endangered   \n",
       "255                                Palm Warbler      Non-endangered   \n",
       "256                      Chestnut-Sided Warbler      Non-endangered   \n",
       "257                              Yellow Warbler      Non-endangered   \n",
       "258                                Pine Warbler      Non-endangered   \n",
       "259                           Blackpoll Warbler      Non-endangered   \n",
       "260                            Cape May Warbler      Non-endangered   \n",
       "261                Black-Throated Green Warbler      Non-endangered   \n",
       "263                         Worm-Eating Warbler      Non-endangered   \n",
       "265                          Swainson's Warbler      Non-endangered   \n",
       "266                     Black-And-White Warbler      Non-endangered   \n",
       "267                         Connecticut Warbler      Non-endangered   \n",
       "268                            Kentucky Warbler      Non-endangered   \n",
       "269                            Mourning Warbler      Non-endangered   \n",
       "271                        Prothonotary Warbler      Non-endangered   \n",
       "276   Bachman's Warbler, Bachman's Wood Warbler          Endangered   \n",
       "277                      Orange-Crowned Warbler      Non-endangered   \n",
       "278                          Brewster's Warbler      Non-endangered   \n",
       "279                          Lawrence's Warbler      Non-endangered   \n",
       "280                          Lawrence's Warbler      Non-endangered   \n",
       "281                          Brewster's Warbler      Non-endangered   \n",
       "282                           Tennessee Warbler      Non-endangered   \n",
       "283                         Blue-Winged Warbler      Non-endangered   \n",
       "284                           Nashville Warbler  Species of Concern   \n",
       "285                              Canada Warbler      Non-endangered   \n",
       "286                              Hooded Warbler      Non-endangered   \n",
       "287                            Wilson's Warbler  Species of Concern   \n",
       "3196                           Wilson's Warbler      Non-endangered   \n",
       "3197                     Orange-Crowned Warbler      Non-endangered   \n",
       "3198                          Tennessee Warbler      Non-endangered   \n",
       "3199                          Nashville Warbler      Non-endangered   \n",
       "3200                         Virginia's Warbler      Non-endangered   \n",
       "3202                       Bay-Breasted Warbler      Non-endangered   \n",
       "3203                             Hooded Warbler      Non-endangered   \n",
       "3204                      Yellow-Rumped Warbler      Non-endangered   \n",
       "3205                            Prairie Warbler      Non-endangered   \n",
       "3206                    Yellow-Throated Warbler      Non-endangered   \n",
       "3207                       Blackburnian Warbler      Non-endangered   \n",
       "3208                               Palm Warbler      Non-endangered   \n",
       "3209                     Chestnut-Sided Warbler      Non-endangered   \n",
       "3210                             Yellow Warbler      Non-endangered   \n",
       "3211                          Blackpoll Warbler      Non-endangered   \n",
       "3212                           Cape May Warbler      Non-endangered   \n",
       "3213                         Townsend's Warbler      Non-endangered   \n",
       "4546                     Macgillivray's Warbler      Non-endangered   \n",
       "4549                           Cerulean Warbler      Non-endangered   \n",
       "4550                          Audubon's Warbler      Non-endangered   \n",
       "4551             Myrtle Warbler (Yellow-Rumped)      Non-endangered   \n",
       "4552                           Magnolia Warbler      Non-endangered   \n",
       "4553                Black-Throated Gray Warbler      Non-endangered   \n",
       "4554                             Hermit Warbler      Non-endangered   \n",
       "\n",
       "      Protected  is_warb  \n",
       "90        False     True  \n",
       "247       False     True  \n",
       "248       False     True  \n",
       "249       False     True  \n",
       "250       False     True  \n",
       "251       False     True  \n",
       "252       False     True  \n",
       "253       False     True  \n",
       "254       False     True  \n",
       "255       False     True  \n",
       "256       False     True  \n",
       "257       False     True  \n",
       "258       False     True  \n",
       "259       False     True  \n",
       "260       False     True  \n",
       "261       False     True  \n",
       "263       False     True  \n",
       "265       False     True  \n",
       "266       False     True  \n",
       "267       False     True  \n",
       "268       False     True  \n",
       "269       False     True  \n",
       "271       False     True  \n",
       "276        True     True  \n",
       "277       False     True  \n",
       "278       False     True  \n",
       "279       False     True  \n",
       "280       False     True  \n",
       "281       False     True  \n",
       "282       False     True  \n",
       "283       False     True  \n",
       "284        True     True  \n",
       "285       False     True  \n",
       "286       False     True  \n",
       "287        True     True  \n",
       "3196      False     True  \n",
       "3197      False     True  \n",
       "3198      False     True  \n",
       "3199      False     True  \n",
       "3200      False     True  \n",
       "3202      False     True  \n",
       "3203      False     True  \n",
       "3204      False     True  \n",
       "3205      False     True  \n",
       "3206      False     True  \n",
       "3207      False     True  \n",
       "3208      False     True  \n",
       "3209      False     True  \n",
       "3210      False     True  \n",
       "3211      False     True  \n",
       "3212      False     True  \n",
       "3213      False     True  \n",
       "4546      False     True  \n",
       "4549      False     True  \n",
       "4550      False     True  \n",
       "4551      False     True  \n",
       "4552      False     True  \n",
       "4553      False     True  \n",
       "4554      False     True  "
      ]
     },
     "execution_count": 28,
     "metadata": {},
     "output_type": "execute_result"
    }
   ],
   "source": [
    "df_spec[df_spec.is_warb]"
   ]
  },
  {
   "cell_type": "markdown",
   "metadata": {
    "hidden": true
   },
   "source": [
    "Next the results of the warbler species will be merged with observations to create a DataFrame with observations of warblerss across the four national parks."
   ]
  },
  {
   "cell_type": "code",
   "execution_count": 29,
   "metadata": {
    "hidden": true
   },
   "outputs": [
    {
     "data": {
      "text/html": [
       "<div>\n",
       "<style scoped>\n",
       "    .dataframe tbody tr th:only-of-type {\n",
       "        vertical-align: middle;\n",
       "    }\n",
       "\n",
       "    .dataframe tbody tr th {\n",
       "        vertical-align: top;\n",
       "    }\n",
       "\n",
       "    .dataframe thead th {\n",
       "        text-align: right;\n",
       "    }\n",
       "</style>\n",
       "<table border=\"1\" class=\"dataframe\">\n",
       "  <thead>\n",
       "    <tr style=\"text-align: right;\">\n",
       "      <th></th>\n",
       "      <th>scientific_name</th>\n",
       "      <th>park_name</th>\n",
       "      <th>observations</th>\n",
       "      <th>category</th>\n",
       "      <th>common_names</th>\n",
       "      <th>conservation_status</th>\n",
       "      <th>Protected</th>\n",
       "      <th>is_warb</th>\n",
       "    </tr>\n",
       "  </thead>\n",
       "  <tbody>\n",
       "    <tr>\n",
       "      <th>0</th>\n",
       "      <td>Vermivora celata</td>\n",
       "      <td>Yosemite National Park</td>\n",
       "      <td>106</td>\n",
       "      <td>Bird</td>\n",
       "      <td>Orange-Crowned Warbler</td>\n",
       "      <td>Non-endangered</td>\n",
       "      <td>False</td>\n",
       "      <td>True</td>\n",
       "    </tr>\n",
       "    <tr>\n",
       "      <th>1</th>\n",
       "      <td>Vermivora celata</td>\n",
       "      <td>Great Smoky Mountains National Park</td>\n",
       "      <td>76</td>\n",
       "      <td>Bird</td>\n",
       "      <td>Orange-Crowned Warbler</td>\n",
       "      <td>Non-endangered</td>\n",
       "      <td>False</td>\n",
       "      <td>True</td>\n",
       "    </tr>\n",
       "    <tr>\n",
       "      <th>2</th>\n",
       "      <td>Vermivora celata</td>\n",
       "      <td>Yellowstone National Park</td>\n",
       "      <td>281</td>\n",
       "      <td>Bird</td>\n",
       "      <td>Orange-Crowned Warbler</td>\n",
       "      <td>Non-endangered</td>\n",
       "      <td>False</td>\n",
       "      <td>True</td>\n",
       "    </tr>\n",
       "    <tr>\n",
       "      <th>3</th>\n",
       "      <td>Vermivora celata</td>\n",
       "      <td>Bryce National Park</td>\n",
       "      <td>121</td>\n",
       "      <td>Bird</td>\n",
       "      <td>Orange-Crowned Warbler</td>\n",
       "      <td>Non-endangered</td>\n",
       "      <td>False</td>\n",
       "      <td>True</td>\n",
       "    </tr>\n",
       "    <tr>\n",
       "      <th>4</th>\n",
       "      <td>Setophaga dominica</td>\n",
       "      <td>Yosemite National Park</td>\n",
       "      <td>140</td>\n",
       "      <td>Bird</td>\n",
       "      <td>Yellow-Throated Warbler</td>\n",
       "      <td>Non-endangered</td>\n",
       "      <td>False</td>\n",
       "      <td>True</td>\n",
       "    </tr>\n",
       "    <tr>\n",
       "      <th>...</th>\n",
       "      <td>...</td>\n",
       "      <td>...</td>\n",
       "      <td>...</td>\n",
       "      <td>...</td>\n",
       "      <td>...</td>\n",
       "      <td>...</td>\n",
       "      <td>...</td>\n",
       "      <td>...</td>\n",
       "    </tr>\n",
       "    <tr>\n",
       "      <th>231</th>\n",
       "      <td>Oreothlypis virginiae</td>\n",
       "      <td>Bryce National Park</td>\n",
       "      <td>84</td>\n",
       "      <td>Bird</td>\n",
       "      <td>Virginia's Warbler</td>\n",
       "      <td>Non-endangered</td>\n",
       "      <td>False</td>\n",
       "      <td>True</td>\n",
       "    </tr>\n",
       "    <tr>\n",
       "      <th>232</th>\n",
       "      <td>Setophaga petechia</td>\n",
       "      <td>Great Smoky Mountains National Park</td>\n",
       "      <td>82</td>\n",
       "      <td>Bird</td>\n",
       "      <td>Yellow Warbler</td>\n",
       "      <td>Non-endangered</td>\n",
       "      <td>False</td>\n",
       "      <td>True</td>\n",
       "    </tr>\n",
       "    <tr>\n",
       "      <th>233</th>\n",
       "      <td>Setophaga petechia</td>\n",
       "      <td>Yellowstone National Park</td>\n",
       "      <td>245</td>\n",
       "      <td>Bird</td>\n",
       "      <td>Yellow Warbler</td>\n",
       "      <td>Non-endangered</td>\n",
       "      <td>False</td>\n",
       "      <td>True</td>\n",
       "    </tr>\n",
       "    <tr>\n",
       "      <th>234</th>\n",
       "      <td>Setophaga petechia</td>\n",
       "      <td>Bryce National Park</td>\n",
       "      <td>134</td>\n",
       "      <td>Bird</td>\n",
       "      <td>Yellow Warbler</td>\n",
       "      <td>Non-endangered</td>\n",
       "      <td>False</td>\n",
       "      <td>True</td>\n",
       "    </tr>\n",
       "    <tr>\n",
       "      <th>235</th>\n",
       "      <td>Setophaga petechia</td>\n",
       "      <td>Yosemite National Park</td>\n",
       "      <td>166</td>\n",
       "      <td>Bird</td>\n",
       "      <td>Yellow Warbler</td>\n",
       "      <td>Non-endangered</td>\n",
       "      <td>False</td>\n",
       "      <td>True</td>\n",
       "    </tr>\n",
       "  </tbody>\n",
       "</table>\n",
       "<p>236 rows × 8 columns</p>\n",
       "</div>"
      ],
      "text/plain": [
       "           scientific_name                            park_name  observations  \\\n",
       "0         Vermivora celata               Yosemite National Park           106   \n",
       "1         Vermivora celata  Great Smoky Mountains National Park            76   \n",
       "2         Vermivora celata            Yellowstone National Park           281   \n",
       "3         Vermivora celata                  Bryce National Park           121   \n",
       "4       Setophaga dominica               Yosemite National Park           140   \n",
       "..                     ...                                  ...           ...   \n",
       "231  Oreothlypis virginiae                  Bryce National Park            84   \n",
       "232     Setophaga petechia  Great Smoky Mountains National Park            82   \n",
       "233     Setophaga petechia            Yellowstone National Park           245   \n",
       "234     Setophaga petechia                  Bryce National Park           134   \n",
       "235     Setophaga petechia               Yosemite National Park           166   \n",
       "\n",
       "    category             common_names conservation_status  Protected  is_warb  \n",
       "0       Bird   Orange-Crowned Warbler      Non-endangered      False     True  \n",
       "1       Bird   Orange-Crowned Warbler      Non-endangered      False     True  \n",
       "2       Bird   Orange-Crowned Warbler      Non-endangered      False     True  \n",
       "3       Bird   Orange-Crowned Warbler      Non-endangered      False     True  \n",
       "4       Bird  Yellow-Throated Warbler      Non-endangered      False     True  \n",
       "..       ...                      ...                 ...        ...      ...  \n",
       "231     Bird       Virginia's Warbler      Non-endangered      False     True  \n",
       "232     Bird           Yellow Warbler      Non-endangered      False     True  \n",
       "233     Bird           Yellow Warbler      Non-endangered      False     True  \n",
       "234     Bird           Yellow Warbler      Non-endangered      False     True  \n",
       "235     Bird           Yellow Warbler      Non-endangered      False     True  \n",
       "\n",
       "[236 rows x 8 columns]"
      ]
     },
     "execution_count": 29,
     "metadata": {},
     "output_type": "execute_result"
    }
   ],
   "source": [
    "warb_observations = df_obs.merge(df_spec[df_spec.is_warb])\n",
    "warb_observations"
   ]
  },
  {
   "cell_type": "markdown",
   "metadata": {
    "hidden": true
   },
   "source": [
    "The total number of warblerss observed in each park over the past 7 days are in the table below. Yellowstone National Park seems to have the largest with 14487 observations and the Great Smoky Mountains National Park having the lowest with 4435."
   ]
  },
  {
   "cell_type": "code",
   "execution_count": 30,
   "metadata": {
    "hidden": true
   },
   "outputs": [
    {
     "data": {
      "text/html": [
       "<div>\n",
       "<style scoped>\n",
       "    .dataframe tbody tr th:only-of-type {\n",
       "        vertical-align: middle;\n",
       "    }\n",
       "\n",
       "    .dataframe tbody tr th {\n",
       "        vertical-align: top;\n",
       "    }\n",
       "\n",
       "    .dataframe thead th {\n",
       "        text-align: right;\n",
       "    }\n",
       "</style>\n",
       "<table border=\"1\" class=\"dataframe\">\n",
       "  <thead>\n",
       "    <tr style=\"text-align: right;\">\n",
       "      <th></th>\n",
       "      <th>park_name</th>\n",
       "      <th>observations</th>\n",
       "    </tr>\n",
       "  </thead>\n",
       "  <tbody>\n",
       "    <tr>\n",
       "      <th>0</th>\n",
       "      <td>Bryce National Park</td>\n",
       "      <td>5760</td>\n",
       "    </tr>\n",
       "    <tr>\n",
       "      <th>1</th>\n",
       "      <td>Great Smoky Mountains National Park</td>\n",
       "      <td>4435</td>\n",
       "    </tr>\n",
       "    <tr>\n",
       "      <th>2</th>\n",
       "      <td>Yellowstone National Park</td>\n",
       "      <td>14487</td>\n",
       "    </tr>\n",
       "    <tr>\n",
       "      <th>3</th>\n",
       "      <td>Yosemite National Park</td>\n",
       "      <td>8712</td>\n",
       "    </tr>\n",
       "  </tbody>\n",
       "</table>\n",
       "</div>"
      ],
      "text/plain": [
       "                             park_name  observations\n",
       "0                  Bryce National Park          5760\n",
       "1  Great Smoky Mountains National Park          4435\n",
       "2            Yellowstone National Park         14487\n",
       "3               Yosemite National Park          8712"
      ]
     },
     "execution_count": 30,
     "metadata": {},
     "output_type": "execute_result"
    }
   ],
   "source": [
    "warb_observations.groupby('park_name').observations.sum().reset_index()"
   ]
  },
  {
   "cell_type": "markdown",
   "metadata": {
    "hidden": true
   },
   "source": [
    "Now let's see each park broken down by protected warbler vs. non-protected warbler sightings. Every park has more sightings of non-protected warblers. This is expected, since we saw earlier that the majority of warblers are not in conservation. This is also shown in the plot below."
   ]
  },
  {
   "cell_type": "code",
   "execution_count": 31,
   "metadata": {
    "hidden": true
   },
   "outputs": [
    {
     "data": {
      "text/html": [
       "<div>\n",
       "<style scoped>\n",
       "    .dataframe tbody tr th:only-of-type {\n",
       "        vertical-align: middle;\n",
       "    }\n",
       "\n",
       "    .dataframe tbody tr th {\n",
       "        vertical-align: top;\n",
       "    }\n",
       "\n",
       "    .dataframe thead th {\n",
       "        text-align: right;\n",
       "    }\n",
       "</style>\n",
       "<table border=\"1\" class=\"dataframe\">\n",
       "  <thead>\n",
       "    <tr style=\"text-align: right;\">\n",
       "      <th></th>\n",
       "      <th>park_name</th>\n",
       "      <th>Protected</th>\n",
       "      <th>observations</th>\n",
       "    </tr>\n",
       "  </thead>\n",
       "  <tbody>\n",
       "    <tr>\n",
       "      <th>0</th>\n",
       "      <td>Bryce National Park</td>\n",
       "      <td>False</td>\n",
       "      <td>5565</td>\n",
       "    </tr>\n",
       "    <tr>\n",
       "      <th>1</th>\n",
       "      <td>Bryce National Park</td>\n",
       "      <td>True</td>\n",
       "      <td>195</td>\n",
       "    </tr>\n",
       "    <tr>\n",
       "      <th>2</th>\n",
       "      <td>Great Smoky Mountains National Park</td>\n",
       "      <td>False</td>\n",
       "      <td>4290</td>\n",
       "    </tr>\n",
       "    <tr>\n",
       "      <th>3</th>\n",
       "      <td>Great Smoky Mountains National Park</td>\n",
       "      <td>True</td>\n",
       "      <td>145</td>\n",
       "    </tr>\n",
       "    <tr>\n",
       "      <th>4</th>\n",
       "      <td>Yellowstone National Park</td>\n",
       "      <td>False</td>\n",
       "      <td>13995</td>\n",
       "    </tr>\n",
       "    <tr>\n",
       "      <th>5</th>\n",
       "      <td>Yellowstone National Park</td>\n",
       "      <td>True</td>\n",
       "      <td>492</td>\n",
       "    </tr>\n",
       "    <tr>\n",
       "      <th>6</th>\n",
       "      <td>Yosemite National Park</td>\n",
       "      <td>False</td>\n",
       "      <td>8441</td>\n",
       "    </tr>\n",
       "    <tr>\n",
       "      <th>7</th>\n",
       "      <td>Yosemite National Park</td>\n",
       "      <td>True</td>\n",
       "      <td>271</td>\n",
       "    </tr>\n",
       "  </tbody>\n",
       "</table>\n",
       "</div>"
      ],
      "text/plain": [
       "                             park_name  Protected  observations\n",
       "0                  Bryce National Park      False          5565\n",
       "1                  Bryce National Park       True           195\n",
       "2  Great Smoky Mountains National Park      False          4290\n",
       "3  Great Smoky Mountains National Park       True           145\n",
       "4            Yellowstone National Park      False         13995\n",
       "5            Yellowstone National Park       True           492\n",
       "6               Yosemite National Park      False          8441\n",
       "7               Yosemite National Park       True           271"
      ]
     },
     "execution_count": 31,
     "metadata": {},
     "output_type": "execute_result"
    }
   ],
   "source": [
    "obs_by_park = warb_observations.groupby(['park_name', 'Protected']).observations.sum().reset_index()\n",
    "obs_by_park"
   ]
  },
  {
   "cell_type": "code",
   "execution_count": 32,
   "metadata": {
    "hidden": true
   },
   "outputs": [
    {
     "data": {
      "image/png": "[encoded data removed]",
      "text/plain": [
       "<Figure size 1600x400 with 1 Axes>"
      ]
     },
     "metadata": {},
     "output_type": "display_data"
    }
   ],
   "source": [
    "plt.figure(figsize=(16, 4))\n",
    "sns.barplot(x=obs_by_park.park_name, y= obs_by_park.observations, hue=obs_by_park.Protected)\n",
    "plt.xlabel('National Parks')\n",
    "plt.ylabel('Number of Observations')\n",
    "plt.title('Observations of Warblers per Week')\n",
    "plt.show()"
   ]
  },
  {
   "cell_type": "markdown",
   "metadata": {},
   "source": [
    "## Conclusions"
   ]
  },
  {
   "cell_type": "markdown",
   "metadata": {},
   "source": [
    "The project was able to make several data visualizations and inferences about the various species in four of the National Parks that comprised this dataset.\n",
    "\n",
    "This project was also able to answer some of the questions first posed in the beginning:\n",
    "\n",
    "- What is the distribution of conservation status for species?\n",
    "    - The vast majority of species were not part of conservation.(5,633 vs 191)\n",
    "- Are certain types of species more likely to be endangered?\n",
    "    - Mammals and Birds had the highest percentage of being in protection.\n",
    "- Are the differences between species and their conservation status significant?\n",
    "    - This varies widely between different categories. For example, mammals and birds do not have significant difference in conservation percentage, but birds and plants (both vascular and non-vascular) present a stron statistical difference in conservation percentage.\n",
    "- Which bird is most prevalent and what is their distribution amongst parks?\n",
    "    - the study found that warblers occurred the most number of times, and they were most likely to be found in Yellowstone National Park."
   ]
  }
 ],
 "metadata": {
  "kernelspec": {
   "display_name": "Python 3 (ipykernel)",
   "language": "python",
   "name": "python3"
  },
  "language_info": {
   "codemirror_mode": {
    "name": "ipython",
    "version": 3
   },
   "file_extension": ".py",
   "mimetype": "text/x-python",
   "name": "python",
   "nbconvert_exporter": "python",
   "pygments_lexer": "ipython3",
   "version": "3.11.9"
  }
 },
 "nbformat": 4,
 "nbformat_minor": 4
}
