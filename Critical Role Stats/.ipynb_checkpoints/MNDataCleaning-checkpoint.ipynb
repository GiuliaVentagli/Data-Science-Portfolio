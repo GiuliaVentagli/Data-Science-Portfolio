{
 "cells": [
  {
   "cell_type": "markdown",
   "id": "d173a101",
   "metadata": {},
   "source": [
    "# Analysis of Critical Role's Campaign 2: Mighty Nein.\n",
    "\n",
    "This notebook takes care of the data manipulation for Critical Role's Campaign 2 (also refered to as Mighty Nein data).\n",
    "\n",
    "**Data sources**\n",
    "\n",
    "- [CRStats](https://www.critrolestats.com/)."
   ]
  },
  {
   "cell_type": "markdown",
   "id": "78240a8f",
   "metadata": {},
   "source": [
    "## Import modules\n",
    "Libraries used throughout the project."
   ]
  },
  {
   "cell_type": "code",
   "execution_count": 1,
   "id": "b6beae00",
   "metadata": {},
   "outputs": [],
   "source": [
    "import pandas as pd\n",
    "import numpy as np"
   ]
  },
  {
   "cell_type": "markdown",
   "id": "5c442d9b",
   "metadata": {},
   "source": [
    "## Loading the data\n",
    "There are several datasets that needs to be open and clean. They are dealt with in separate subsections. Note that a preliminary data manipulation has been done in Excel, prior to the one executed in this notebook, to have the data into different `csv` files."
   ]
  },
  {
   "cell_type": "markdown",
   "id": "58f61e7f",
   "metadata": {},
   "source": [
    "### Data on all rolls\n",
    "\n",
    "The first dataset loaded is `AllRollsMN.csv`, where data about all rolls during the campaign are stored. The columns are:\n",
    "- `Episode`, the episode number;\n",
    "- `Time`, the timestamp of the roll;\n",
    "- `Character`, the character who rolled;\n",
    "- `Type of Roll`, what kind of roll is;\n",
    "- `Total Value`, the total number of the roll (with added bonuses and modifiers);\n",
    "- `Natural Value`, the natural value of the dice roll;\n",
    "- `Crit?`, is it a critical roll?\n",
    "- `Damage Dealt`, the damage dealt by attack;\n",
    "- `# Kills`, how many enemy killed with that roll;\n",
    "- `Notes`, comments on the roll."
   ]
  },
  {
   "cell_type": "code",
   "execution_count": 2,
   "id": "2346bf79",
   "metadata": {},
   "outputs": [],
   "source": [
    "rolls = pd.read_csv('MightyNein/AllRollsMN.csv', sep=';')"
   ]
  },
  {
   "cell_type": "code",
   "execution_count": 3,
   "id": "40a01d0c",
   "metadata": {},
   "outputs": [
    {
     "data": {
      "text/plain": [
       "Index(['Episode', 'Time', 'Character', 'Type of Roll', 'Total Value',\n",
       "       'Natural Value', 'Crit?', 'Damage Dealt', '# Kills', 'Notes'],\n",
       "      dtype='object')"
      ]
     },
     "execution_count": 3,
     "metadata": {},
     "output_type": "execute_result"
    }
   ],
   "source": [
    "rolls.columns"
   ]
  },
  {
   "cell_type": "code",
   "execution_count": 4,
   "id": "711c00c8",
   "metadata": {},
   "outputs": [
    {
     "data": {
      "text/plain": [
       "Episode           object\n",
       "Time              object\n",
       "Character         object\n",
       "Type of Roll      object\n",
       "Total Value       object\n",
       "Natural Value     object\n",
       "Crit?             object\n",
       "Damage Dealt      object\n",
       "# Kills          float64\n",
       "Notes             object\n",
       "dtype: object"
      ]
     },
     "execution_count": 4,
     "metadata": {},
     "output_type": "execute_result"
    }
   ],
   "source": [
    "rolls.dtypes"
   ]
  },
  {
   "cell_type": "markdown",
   "id": "f799ad0a",
   "metadata": {},
   "source": [
    "First, we drop columns that are not useful: `Notes`, `Damage Dealt` and `Crit?`. These columns are too messy or are missing data. The `Crit?` can be obtained from an analysis of `Natural Value`, it will mean that some critical rolls on a 19 will be missed (for example a specific subclass of barbarian can crit on a 19). Moreover, the damage is analysed in a separate file."
   ]
  },
  {
   "cell_type": "code",
   "execution_count": 5,
   "id": "aa6569db",
   "metadata": {},
   "outputs": [],
   "source": [
    "rolls.drop(columns=['Damage Dealt', 'Notes', 'Crit?'], inplace=True)"
   ]
  },
  {
   "cell_type": "code",
   "execution_count": 6,
   "id": "af10fd01",
   "metadata": {},
   "outputs": [],
   "source": [
    "#Let's rename some columns for simplicity\n",
    "rolls.rename(columns={'Type of Roll': 'roll_type', 'Total Value': 'tot_value',\n",
    "                      'Natural Value': 'nat_value', '# Kills': 'num_kills'}, inplace=True)"
   ]
  },
  {
   "cell_type": "markdown",
   "id": "3eb5e329",
   "metadata": {},
   "source": [
    "The `Episode` columns stores the episode number, let's turn it into a numerical variable."
   ]
  },
  {
   "cell_type": "code",
   "execution_count": 7,
   "id": "7b4a6f70",
   "metadata": {},
   "outputs": [],
   "source": [
    "rolls['Episode'] = rolls['Episode'].str.split(pat='E').str[1]\n",
    "rolls['Episode'] = rolls['Episode'].astype('int')"
   ]
  },
  {
   "cell_type": "code",
   "execution_count": 8,
   "id": "4e4c6997",
   "metadata": {},
   "outputs": [],
   "source": [
    "#pd.to_datetime(rolls['Time'],format='%H:%M:%S').dt.time"
   ]
  },
  {
   "cell_type": "markdown",
   "id": "e21a9057",
   "metadata": {},
   "source": [
    "Let's check that all rolls have a `Character` and a `roll_type` assigned."
   ]
  },
  {
   "cell_type": "code",
   "execution_count": 8,
   "id": "43877796",
   "metadata": {},
   "outputs": [
    {
     "data": {
      "text/plain": [
       "0"
      ]
     },
     "execution_count": 8,
     "metadata": {},
     "output_type": "execute_result"
    }
   ],
   "source": [
    "rolls.Character.isna().sum()"
   ]
  },
  {
   "cell_type": "markdown",
   "id": "c9be1775",
   "metadata": {},
   "source": [
    "Let's group together Nott and Veth since they are effectively the same character."
   ]
  },
  {
   "cell_type": "code",
   "execution_count": 11,
   "id": "77847179",
   "metadata": {},
   "outputs": [],
   "source": [
    "rolls['Character'].replace(['Nott', 'Veth'],'Nott/Veth',inplace=True)"
   ]
  },
  {
   "cell_type": "code",
   "execution_count": 13,
   "id": "f5a47bce",
   "metadata": {},
   "outputs": [
    {
     "data": {
      "text/plain": [
       "0"
      ]
     },
     "execution_count": 13,
     "metadata": {},
     "output_type": "execute_result"
    }
   ],
   "source": [
    "rolls.roll_type.isna().sum()"
   ]
  },
  {
   "cell_type": "markdown",
   "id": "707cd9f2",
   "metadata": {},
   "source": [
    "In the column `tot_value` and  `nat_value` some rolls are stored as `Nat#`, let's remove that `Nat`, and store the rolls as floats. If a rolls is  `Unknown`, it will just be a `NaN`."
   ]
  },
  {
   "cell_type": "code",
   "execution_count": 14,
   "id": "4dec978e",
   "metadata": {},
   "outputs": [],
   "source": [
    "rolls['tot_value'] = np.where(rolls.tot_value.str[0:3] == 'Nat',\n",
    "                              rolls.tot_value.str[3:],rolls.tot_value)\n",
    "rolls['tot_value'].replace('Unknown',np.NaN,inplace=True)\n",
    "rolls['tot_value'] = rolls['tot_value'].astype('float')\n",
    "rolls['nat_value'].replace('Unknown',np.NaN,inplace=True)\n",
    "rolls['nat_value'] = rolls['nat_value'].astype('float')"
   ]
  },
  {
   "cell_type": "markdown",
   "id": "4190bf86",
   "metadata": {},
   "source": [
    "A weird thing is happening with some rolls, they have 'natural' values 0 or negative, which is not possible. I isolate these rolls: there are only 4 entries that display such behaviour. These will be turned into `NaN`."
   ]
  },
  {
   "cell_type": "code",
   "execution_count": 15,
   "id": "f3873d5c",
   "metadata": {},
   "outputs": [
    {
     "data": {
      "text/html": [
       "<div>\n",
       "<style scoped>\n",
       "    .dataframe tbody tr th:only-of-type {\n",
       "        vertical-align: middle;\n",
       "    }\n",
       "\n",
       "    .dataframe tbody tr th {\n",
       "        vertical-align: top;\n",
       "    }\n",
       "\n",
       "    .dataframe thead th {\n",
       "        text-align: right;\n",
       "    }\n",
       "</style>\n",
       "<table border=\"1\" class=\"dataframe\">\n",
       "  <thead>\n",
       "    <tr style=\"text-align: right;\">\n",
       "      <th></th>\n",
       "      <th>Episode</th>\n",
       "      <th>Time</th>\n",
       "      <th>Character</th>\n",
       "      <th>roll_type</th>\n",
       "      <th>tot_value</th>\n",
       "      <th>nat_value</th>\n",
       "      <th>num_kills</th>\n",
       "    </tr>\n",
       "  </thead>\n",
       "  <tbody>\n",
       "    <tr>\n",
       "      <th>3440</th>\n",
       "      <td>29</td>\n",
       "      <td>00:56:46</td>\n",
       "      <td>Keg</td>\n",
       "      <td>Initiative</td>\n",
       "      <td>3.0</td>\n",
       "      <td>0.0</td>\n",
       "      <td>NaN</td>\n",
       "    </tr>\n",
       "    <tr>\n",
       "      <th>10916</th>\n",
       "      <td>95</td>\n",
       "      <td>03:33:31</td>\n",
       "      <td>Beau</td>\n",
       "      <td>Investigation</td>\n",
       "      <td>10.0</td>\n",
       "      <td>-2.0</td>\n",
       "      <td>NaN</td>\n",
       "    </tr>\n",
       "    <tr>\n",
       "      <th>11665</th>\n",
       "      <td>104</td>\n",
       "      <td>02:33:15</td>\n",
       "      <td>Caleb</td>\n",
       "      <td>Wisdom Save</td>\n",
       "      <td>7.0</td>\n",
       "      <td>-1.0</td>\n",
       "      <td>NaN</td>\n",
       "    </tr>\n",
       "    <tr>\n",
       "      <th>12254</th>\n",
       "      <td>113</td>\n",
       "      <td>01:57:49</td>\n",
       "      <td>Caleb</td>\n",
       "      <td>Wisdom Save</td>\n",
       "      <td>5.0</td>\n",
       "      <td>-4.0</td>\n",
       "      <td>NaN</td>\n",
       "    </tr>\n",
       "  </tbody>\n",
       "</table>\n",
       "</div>"
      ],
      "text/plain": [
       "       Episode      Time Character      roll_type  tot_value  nat_value  \\\n",
       "3440        29  00:56:46       Keg     Initiative        3.0        0.0   \n",
       "10916       95  03:33:31      Beau  Investigation       10.0       -2.0   \n",
       "11665      104  02:33:15     Caleb    Wisdom Save        7.0       -1.0   \n",
       "12254      113  01:57:49     Caleb    Wisdom Save        5.0       -4.0   \n",
       "\n",
       "       num_kills  \n",
       "3440         NaN  \n",
       "10916        NaN  \n",
       "11665        NaN  \n",
       "12254        NaN  "
      ]
     },
     "execution_count": 15,
     "metadata": {},
     "output_type": "execute_result"
    }
   ],
   "source": [
    "rolls[rolls.nat_value <= 0]"
   ]
  },
  {
   "cell_type": "code",
   "execution_count": 16,
   "id": "f59e35e9",
   "metadata": {},
   "outputs": [],
   "source": [
    "rolls['nat_value'] = np.where(rolls.nat_value <= 0, np.nan,rolls.nat_value)"
   ]
  },
  {
   "cell_type": "markdown",
   "id": "9ad5bbe6",
   "metadata": {},
   "source": [
    "Most of the rolls do not result in killing an enemy, these events are seved as `NaN` in `num_kills`. To allow a smoother analysis, they are transformed to 0."
   ]
  },
  {
   "cell_type": "code",
   "execution_count": 17,
   "id": "0bb4b7d4",
   "metadata": {},
   "outputs": [],
   "source": [
    "rolls['num_kills'].fillna(0,inplace=True)"
   ]
  },
  {
   "cell_type": "markdown",
   "id": "26727e2f",
   "metadata": {},
   "source": [
    "Lastly, the `roll_type` category is quite messy. Let's clean it."
   ]
  },
  {
   "cell_type": "code",
   "execution_count": 18,
   "id": "55a93667",
   "metadata": {},
   "outputs": [
    {
     "name": "stdout",
     "output_type": "stream",
     "text": [
      "['Acrobatics' 'Alchemist Kit' 'Alchemist Tools' 'Alchemy Kit'\n",
      " 'Animal Handling' 'Arcana' 'Athletics' 'Attack' 'Basic Check' 'Blink'\n",
      " 'Charisma' 'Charisma Save' 'Check' 'Consitution Save' 'Constitution'\n",
      " 'Constitution Save' 'Counterspell' 'D20' 'Damage' 'Death Save'\n",
      " 'Deception' 'Deflect Missiles' 'Dexterity' 'Dexterity Save'\n",
      " 'Disguise Kit' 'Divine Intervention' 'Encounter' 'Flat Roll' 'Forgery'\n",
      " 'Forgery Kit' 'Forgery Tools' 'Fragment' 'Guidance' 'Healing' 'History'\n",
      " 'Hit Dice' 'Hit Points' 'Inevstigation' 'Initiative' 'Insight'\n",
      " 'Intelligence' 'Intelligence Save' 'Intimidation' 'Investigation'\n",
      " 'Medicine' 'Mirror Image' 'Nature' 'Other' 'Percentage' 'Perception'\n",
      " 'Performance' 'Persuasion' 'Religion' 'Sleight of Hand' 'Spell Attack'\n",
      " 'Stealth' 'Steath' 'Strength' 'Strength Save' 'Survival' \"Thieves' Tools\"\n",
      " \"Tinker's Tools\" 'Unknown' 'Wisdom' 'Wisdom Save' 'd100' 'd20']\n"
     ]
    }
   ],
   "source": [
    "list_rolls_type = rolls['roll_type'].unique()\n",
    "list_rolls_type.sort()\n",
    "print(list_rolls_type)"
   ]
  },
  {
   "cell_type": "code",
   "execution_count": 19,
   "id": "a7b580ae",
   "metadata": {},
   "outputs": [],
   "source": [
    "rolls['roll_type'].replace(['Alchemist Kit', 'Alchemy Kit'], 'Alchemist Tools', inplace=True)\n",
    "rolls['roll_type'].replace(['Check'], 'Basic Check', inplace=True)\n",
    "rolls['roll_type'].replace(['Consitution Save'], 'Constitution Save', inplace=True)\n",
    "rolls['roll_type'].replace(['Forgery Kit', 'Forgery'], 'Forgery Tools', inplace=True)\n",
    "rolls['roll_type'].replace(['Inevstigation'], 'Investigation', inplace=True)\n",
    "rolls['roll_type'].replace(['Steath'], 'Stealth', inplace=True)\n",
    "rolls['roll_type'].replace([\"Thieves' Tools\"], 'Thieves Tools', inplace=True)\n",
    "rolls['roll_type'].replace([\"Tinker's Tools\"], 'Tinker Tools', inplace=True)\n",
    "rolls['roll_type'].replace(['D20','Deflect Missiles','Encounter', 'Flat Roll',\n",
    "                           'Fragment', 'Mirror Image', 'Percentage','d100',\n",
    "                           'd20', 'Hit Dice', 'Hit Points', 'Alchemist Tools',\n",
    "                           'Disguise Kit', 'Forgery Tools', 'Thieves Tools', 'Tinker Tools',\n",
    "                           'Basic Check', 'Blink'], 'Other', inplace=True)"
   ]
  },
  {
   "cell_type": "code",
   "execution_count": 20,
   "id": "28568011",
   "metadata": {},
   "outputs": [
    {
     "name": "stdout",
     "output_type": "stream",
     "text": [
      "['Acrobatics' 'Animal Handling' 'Arcana' 'Athletics' 'Attack' 'Charisma'\n",
      " 'Charisma Save' 'Constitution' 'Constitution Save' 'Counterspell'\n",
      " 'Damage' 'Death Save' 'Deception' 'Dexterity' 'Dexterity Save'\n",
      " 'Divine Intervention' 'Guidance' 'Healing' 'History' 'Initiative'\n",
      " 'Insight' 'Intelligence' 'Intelligence Save' 'Intimidation'\n",
      " 'Investigation' 'Medicine' 'Nature' 'Other' 'Perception' 'Performance'\n",
      " 'Persuasion' 'Religion' 'Sleight of Hand' 'Spell Attack' 'Stealth'\n",
      " 'Strength' 'Strength Save' 'Survival' 'Unknown' 'Wisdom' 'Wisdom Save']\n"
     ]
    }
   ],
   "source": [
    "list_rolls_type = rolls['roll_type'].unique()\n",
    "list_rolls_type.sort()\n",
    "print(list_rolls_type)"
   ]
  },
  {
   "cell_type": "markdown",
   "id": "c39e8d5e",
   "metadata": {},
   "source": [
    "Let's create a new column, to simplify the roll type further. It will differentiate into macro-types, for example checks, saves etc."
   ]
  },
  {
   "cell_type": "code",
   "execution_count": 21,
   "id": "2f35098c",
   "metadata": {},
   "outputs": [],
   "source": [
    "list_check = ['Acrobatics', 'Animal Handling', 'Arcana', 'Athletics', 'Charisma',\n",
    " 'Constitution', 'Deception', 'Dexterity', 'History', 'Insight', 'Intelligence', \n",
    " 'Intimidation', 'Investigation', 'Medicine', 'Nature', 'Perception', 'Performance',\n",
    " 'Persuasion', 'Religion', 'Sleight of Hand', 'Stealth', 'Strength', 'Survival', 'Wisdom']\n",
    "list_save = ['Charisma Save', 'Constitution Save', 'Dexterity Save',\n",
    " 'Intelligence Save', 'Strength Save', 'Wisdom Save']\n",
    "list_attack = ['Attack', 'Spell Attack']\n",
    "rolls['roll_macrotype']=np.where(rolls.roll_type.isin(list_check),'Check',\n",
    "                                np.where(rolls.roll_type.isin(list_save),'Save',\n",
    "                                        np.where(rolls.roll_type.isin(list_attack),'Attack','Other')\n",
    "                                        )\n",
    "                                )"
   ]
  },
  {
   "cell_type": "markdown",
   "id": "0da69937",
   "metadata": {},
   "source": [
    "Let's save the cleaned dataset."
   ]
  },
  {
   "cell_type": "code",
   "execution_count": 22,
   "id": "32bc9ed7",
   "metadata": {},
   "outputs": [],
   "source": [
    "rolls.to_csv('MightyNein/AllRollsMNClean.csv', index=False)"
   ]
  }
 ],
 "metadata": {
  "kernelspec": {
   "display_name": "Python 3 (ipykernel)",
   "language": "python",
   "name": "python3"
  },
  "language_info": {
   "codemirror_mode": {
    "name": "ipython",
    "version": 3
   },
   "file_extension": ".py",
   "mimetype": "text/x-python",
   "name": "python",
   "nbconvert_exporter": "python",
   "pygments_lexer": "ipython3",
   "version": "3.11.9"
  }
 },
 "nbformat": 4,
 "nbformat_minor": 5
}
